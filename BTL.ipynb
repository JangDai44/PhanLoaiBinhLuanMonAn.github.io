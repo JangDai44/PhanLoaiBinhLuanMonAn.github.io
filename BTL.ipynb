{
  "nbformat": 4,
  "nbformat_minor": 0,
  "metadata": {
    "colab": {
      "name": "BTL.ipynb",
      "provenance": [],
      "collapsed_sections": [],
      "toc_visible": true
    },
    "kernelspec": {
      "display_name": "Python 3",
      "name": "python3"
    },
    "language_info": {
      "name": "python"
    },
    "accelerator": "TPU"
  },
  "cells": [
    {
      "cell_type": "code",
      "metadata": {
        "colab": {
          "base_uri": "https://localhost:8080/"
        },
        "id": "A8ulLJBt5Rbx",
        "outputId": "09e34511-f37a-4219-ceb3-2249d698e8e5"
      },
      "source": [
        "!pip install underthesea"
      ],
      "execution_count": 1,
      "outputs": [
        {
          "output_type": "stream",
          "text": [
            "Collecting underthesea\n",
            "\u001b[?25l  Downloading https://files.pythonhosted.org/packages/a8/5f/03ab9091b88e7851aa92da33f8eea6f111423cc1194cf1636c63c1fff3d0/underthesea-1.3.1-py3-none-any.whl (7.5MB)\n",
            "\u001b[K     |████████████████████████████████| 7.5MB 4.4MB/s \n",
            "\u001b[?25hCollecting unidecode\n",
            "\u001b[?25l  Downloading https://files.pythonhosted.org/packages/9e/25/723487ca2a52ebcee88a34d7d1f5a4b80b793f179ee0f62d5371938dfa01/Unidecode-1.2.0-py2.py3-none-any.whl (241kB)\n",
            "\u001b[K     |████████████████████████████████| 245kB 35.1MB/s \n",
            "\u001b[?25hRequirement already satisfied: tqdm in /usr/local/lib/python3.7/dist-packages (from underthesea) (4.41.1)\n",
            "Requirement already satisfied: nltk in /usr/local/lib/python3.7/dist-packages (from underthesea) (3.2.5)\n",
            "Collecting torch<=1.5.1,>=1.1.0\n",
            "\u001b[?25l  Downloading https://files.pythonhosted.org/packages/a4/cf/007b6de316c9f3d4cb315a60c308342cc299e464167f5ebc369e93b5e23a/torch-1.5.1-cp37-cp37m-manylinux1_x86_64.whl (753.2MB)\n",
            "\u001b[K     |████████████████████████████████| 753.2MB 22kB/s \n",
            "\u001b[?25hRequirement already satisfied: requests in /usr/local/lib/python3.7/dist-packages (from underthesea) (2.23.0)\n",
            "Collecting transformers<=3.5.1,>=3.5.0\n",
            "\u001b[?25l  Downloading https://files.pythonhosted.org/packages/3a/83/e74092e7f24a08d751aa59b37a9fc572b2e4af3918cb66f7766c3affb1b4/transformers-3.5.1-py3-none-any.whl (1.3MB)\n",
            "\u001b[K     |████████████████████████████████| 1.3MB 35.7MB/s \n",
            "\u001b[?25hCollecting python-crfsuite>=0.9.6\n",
            "\u001b[?25l  Downloading https://files.pythonhosted.org/packages/79/47/58f16c46506139f17de4630dbcfb877ce41a6355a1bbf3c443edb9708429/python_crfsuite-0.9.7-cp37-cp37m-manylinux1_x86_64.whl (743kB)\n",
            "\u001b[K     |████████████████████████████████| 747kB 30.8MB/s \n",
            "\u001b[?25hCollecting seqeval\n",
            "\u001b[?25l  Downloading https://files.pythonhosted.org/packages/9d/2d/233c79d5b4e5ab1dbf111242299153f3caddddbb691219f363ad55ce783d/seqeval-1.2.2.tar.gz (43kB)\n",
            "\u001b[K     |████████████████████████████████| 51kB 5.8MB/s \n",
            "\u001b[?25hRequirement already satisfied: PyYAML in /usr/local/lib/python3.7/dist-packages (from underthesea) (3.13)\n",
            "Requirement already satisfied: Click>=6.0 in /usr/local/lib/python3.7/dist-packages (from underthesea) (7.1.2)\n",
            "Requirement already satisfied: scikit-learn in /usr/local/lib/python3.7/dist-packages (from underthesea) (0.22.2.post1)\n",
            "Requirement already satisfied: joblib in /usr/local/lib/python3.7/dist-packages (from underthesea) (1.0.1)\n",
            "Requirement already satisfied: six in /usr/local/lib/python3.7/dist-packages (from nltk->underthesea) (1.15.0)\n",
            "Requirement already satisfied: future in /usr/local/lib/python3.7/dist-packages (from torch<=1.5.1,>=1.1.0->underthesea) (0.16.0)\n",
            "Requirement already satisfied: numpy in /usr/local/lib/python3.7/dist-packages (from torch<=1.5.1,>=1.1.0->underthesea) (1.19.5)\n",
            "Requirement already satisfied: chardet<4,>=3.0.2 in /usr/local/lib/python3.7/dist-packages (from requests->underthesea) (3.0.4)\n",
            "Requirement already satisfied: urllib3!=1.25.0,!=1.25.1,<1.26,>=1.21.1 in /usr/local/lib/python3.7/dist-packages (from requests->underthesea) (1.24.3)\n",
            "Requirement already satisfied: idna<3,>=2.5 in /usr/local/lib/python3.7/dist-packages (from requests->underthesea) (2.10)\n",
            "Requirement already satisfied: certifi>=2017.4.17 in /usr/local/lib/python3.7/dist-packages (from requests->underthesea) (2020.12.5)\n",
            "Requirement already satisfied: filelock in /usr/local/lib/python3.7/dist-packages (from transformers<=3.5.1,>=3.5.0->underthesea) (3.0.12)\n",
            "Requirement already satisfied: protobuf in /usr/local/lib/python3.7/dist-packages (from transformers<=3.5.1,>=3.5.0->underthesea) (3.12.4)\n",
            "Collecting sacremoses\n",
            "\u001b[?25l  Downloading https://files.pythonhosted.org/packages/75/ee/67241dc87f266093c533a2d4d3d69438e57d7a90abb216fa076e7d475d4a/sacremoses-0.0.45-py3-none-any.whl (895kB)\n",
            "\u001b[K     |████████████████████████████████| 901kB 27.0MB/s \n",
            "\u001b[?25hCollecting tokenizers==0.9.3\n",
            "\u001b[?25l  Downloading https://files.pythonhosted.org/packages/7b/ac/f5ba028f0f097d855e1541301e946d4672eb0f30b6e25cb2369075f916d2/tokenizers-0.9.3-cp37-cp37m-manylinux1_x86_64.whl (2.9MB)\n",
            "\u001b[K     |████████████████████████████████| 2.9MB 22.0MB/s \n",
            "\u001b[?25hRequirement already satisfied: regex!=2019.12.17 in /usr/local/lib/python3.7/dist-packages (from transformers<=3.5.1,>=3.5.0->underthesea) (2019.12.20)\n",
            "Requirement already satisfied: packaging in /usr/local/lib/python3.7/dist-packages (from transformers<=3.5.1,>=3.5.0->underthesea) (20.9)\n",
            "Collecting sentencepiece==0.1.91\n",
            "\u001b[?25l  Downloading https://files.pythonhosted.org/packages/f2/e2/813dff3d72df2f49554204e7e5f73a3dc0f0eb1e3958a4cad3ef3fb278b7/sentencepiece-0.1.91-cp37-cp37m-manylinux1_x86_64.whl (1.1MB)\n",
            "\u001b[K     |████████████████████████████████| 1.1MB 25.1MB/s \n",
            "\u001b[?25hRequirement already satisfied: scipy>=0.17.0 in /usr/local/lib/python3.7/dist-packages (from scikit-learn->underthesea) (1.4.1)\n",
            "Requirement already satisfied: setuptools in /usr/local/lib/python3.7/dist-packages (from protobuf->transformers<=3.5.1,>=3.5.0->underthesea) (56.1.0)\n",
            "Requirement already satisfied: pyparsing>=2.0.2 in /usr/local/lib/python3.7/dist-packages (from packaging->transformers<=3.5.1,>=3.5.0->underthesea) (2.4.7)\n",
            "Building wheels for collected packages: seqeval\n",
            "  Building wheel for seqeval (setup.py) ... \u001b[?25l\u001b[?25hdone\n",
            "  Created wheel for seqeval: filename=seqeval-1.2.2-cp37-none-any.whl size=16172 sha256=e12bc8f37357980e4839db7cf5ba3142822abf8fe070231056fe5946ddde3c9e\n",
            "  Stored in directory: /root/.cache/pip/wheels/52/df/1b/45d75646c37428f7e626214704a0e35bd3cfc32eda37e59e5f\n",
            "Successfully built seqeval\n",
            "\u001b[31mERROR: torchvision 0.9.1+cu101 has requirement torch==1.8.1, but you'll have torch 1.5.1 which is incompatible.\u001b[0m\n",
            "\u001b[31mERROR: torchtext 0.9.1 has requirement torch==1.8.1, but you'll have torch 1.5.1 which is incompatible.\u001b[0m\n",
            "Installing collected packages: unidecode, torch, sacremoses, tokenizers, sentencepiece, transformers, python-crfsuite, seqeval, underthesea\n",
            "  Found existing installation: torch 1.8.1+cu101\n",
            "    Uninstalling torch-1.8.1+cu101:\n",
            "      Successfully uninstalled torch-1.8.1+cu101\n",
            "Successfully installed python-crfsuite-0.9.7 sacremoses-0.0.45 sentencepiece-0.1.91 seqeval-1.2.2 tokenizers-0.9.3 torch-1.5.1 transformers-3.5.1 underthesea-1.3.1 unidecode-1.2.0\n"
          ],
          "name": "stdout"
        }
      ]
    },
    {
      "cell_type": "markdown",
      "metadata": {
        "id": "hsIwYqq839gi"
      },
      "source": [
        "# Khai báo các thư viện"
      ]
    },
    {
      "cell_type": "code",
      "metadata": {
        "id": "IzdaRU3H6F5c"
      },
      "source": [
        "import pandas as pd\n",
        "from underthesea import word_tokenize\n",
        "import regex\n",
        "from sklearn.manifold import TSNE\n",
        "from gensim.models import Word2Vec\n",
        "import numpy as np\n",
        "import keras\n",
        "from sklearn.model_selection import train_test_split\n",
        "from keras.preprocessing.sequence import pad_sequences\n",
        "import matplotlib.pyplot as plt\n",
        "import tensorflow.compat.v1 as tf \n",
        "from keras_preprocessing import sequence\n",
        "from keras.models import  Sequential,load_model\n",
        "from keras.layers import Dense,Embedding,Flatten,GRU,SimpleRNN\n",
        "from keras.layers import LSTM,Dropout,MaxPool1D,Convolution2D,GlobalMaxPooling1D,Bidirectional\n",
        "from keras.datasets import imdb\n",
        "from keras.layers.convolutional import Conv1D,Conv2D\n",
        "from keras.layers.convolutional import MaxPooling1D\n",
        "from sklearn.model_selection import train_test_split\n",
        "import tensorflow as tf\n",
        "from keras.optimizers import Adam\n",
        "from keras.losses import categorical_crossentropy"
      ],
      "execution_count": 2,
      "outputs": []
    },
    {
      "cell_type": "markdown",
      "metadata": {
        "id": "cXA3zifC4B6X"
      },
      "source": [
        "# Load lữ liệu"
      ]
    },
    {
      "cell_type": "code",
      "metadata": {
        "colab": {
          "base_uri": "https://localhost:8080/",
          "height": 402
        },
        "id": "UdmavKw96pKH",
        "outputId": "5cb5b428-c868-46e4-dd10-b207a8d90356"
      },
      "source": [
        "data = pd.read_excel('/content/drive/MyDrive/NLP/nlp1.xlsx')\n",
        "data"
      ],
      "execution_count": 3,
      "outputs": [
        {
          "output_type": "execute_result",
          "data": {
            "text/html": [
              "<div>\n",
              "<style scoped>\n",
              "    .dataframe tbody tr th:only-of-type {\n",
              "        vertical-align: middle;\n",
              "    }\n",
              "\n",
              "    .dataframe tbody tr th {\n",
              "        vertical-align: top;\n",
              "    }\n",
              "\n",
              "    .dataframe thead th {\n",
              "        text-align: right;\n",
              "    }\n",
              "</style>\n",
              "<table border=\"1\" class=\"dataframe\">\n",
              "  <thead>\n",
              "    <tr style=\"text-align: right;\">\n",
              "      <th></th>\n",
              "      <th>Label</th>\n",
              "      <th>Data</th>\n",
              "    </tr>\n",
              "  </thead>\n",
              "  <tbody>\n",
              "    <tr>\n",
              "      <th>0</th>\n",
              "      <td>6</td>\n",
              "      <td>rất đáng ghé thử vào đây đi sinh nhật bạn thấy...</td>\n",
              "    </tr>\n",
              "    <tr>\n",
              "      <th>1</th>\n",
              "      <td>7</td>\n",
              "      <td>vệ sinh dơ</td>\n",
              "    </tr>\n",
              "    <tr>\n",
              "      <th>2</th>\n",
              "      <td>5</td>\n",
              "      <td>giá cả phải chăng</td>\n",
              "    </tr>\n",
              "    <tr>\n",
              "      <th>3</th>\n",
              "      <td>5</td>\n",
              "      <td>giá khá rẻ</td>\n",
              "    </tr>\n",
              "    <tr>\n",
              "      <th>4</th>\n",
              "      <td>3</td>\n",
              "      <td>bánh bông lan phô mai mềm béo xốp nhưng vị ngọ...</td>\n",
              "    </tr>\n",
              "    <tr>\n",
              "      <th>...</th>\n",
              "      <td>...</td>\n",
              "      <td>...</td>\n",
              "    </tr>\n",
              "    <tr>\n",
              "      <th>20928</th>\n",
              "      <td>1</td>\n",
              "      <td>nay buổi chiều thèm ăn nem chua rán nên lại gh...</td>\n",
              "    </tr>\n",
              "    <tr>\n",
              "      <th>20929</th>\n",
              "      <td>3</td>\n",
              "      <td>gà chả lạp sườn cũng ngon</td>\n",
              "    </tr>\n",
              "    <tr>\n",
              "      <th>20930</th>\n",
              "      <td>0</td>\n",
              "      <td>giá hơi cao 1 đĩa nem này hơn 90 nghìn</td>\n",
              "    </tr>\n",
              "    <tr>\n",
              "      <th>20931</th>\n",
              "      <td>1</td>\n",
              "      <td>thôi thì bỏ qua vì đồ ăn quá ư là ưng ý</td>\n",
              "    </tr>\n",
              "    <tr>\n",
              "      <th>20932</th>\n",
              "      <td>3</td>\n",
              "      <td>rau câu ăn cũng được</td>\n",
              "    </tr>\n",
              "  </tbody>\n",
              "</table>\n",
              "<p>20933 rows × 2 columns</p>\n",
              "</div>"
            ],
            "text/plain": [
              "       Label                                               Data\n",
              "0          6  rất đáng ghé thử vào đây đi sinh nhật bạn thấy...\n",
              "1          7                                         vệ sinh dơ\n",
              "2          5                                  giá cả phải chăng\n",
              "3          5                                         giá khá rẻ\n",
              "4          3  bánh bông lan phô mai mềm béo xốp nhưng vị ngọ...\n",
              "...      ...                                                ...\n",
              "20928      1  nay buổi chiều thèm ăn nem chua rán nên lại gh...\n",
              "20929      3                          gà chả lạp sườn cũng ngon\n",
              "20930      0             giá hơi cao 1 đĩa nem này hơn 90 nghìn\n",
              "20931      1            thôi thì bỏ qua vì đồ ăn quá ư là ưng ý\n",
              "20932      3                               rau câu ăn cũng được\n",
              "\n",
              "[20933 rows x 2 columns]"
            ]
          },
          "metadata": {
            "tags": []
          },
          "execution_count": 3
        }
      ]
    },
    {
      "cell_type": "code",
      "metadata": {
        "colab": {
          "base_uri": "https://localhost:8080/"
        },
        "id": "eyqPG8G4QmJa",
        "outputId": "64eb72bd-008c-4f6d-bfd8-e14a65655e6a"
      },
      "source": [
        "# các nhãn\n",
        "set(data['Label'])"
      ],
      "execution_count": 4,
      "outputs": [
        {
          "output_type": "execute_result",
          "data": {
            "text/plain": [
              "{0, 1, 2, 3, 4, 5, 6, 7, 8, 9}"
            ]
          },
          "metadata": {
            "tags": []
          },
          "execution_count": 4
        }
      ]
    },
    {
      "cell_type": "markdown",
      "metadata": {
        "id": "JrPQcoZP4JuS"
      },
      "source": [
        "# Xử lí câu"
      ]
    },
    {
      "cell_type": "code",
      "metadata": {
        "id": "GY3qRer365D-"
      },
      "source": [
        "# hàm xử lí câu\n",
        "def xuli(cau):\n",
        "  cau = regex.sub('[.,;/!?#“”$%()^&*-@+=]',' ',cau)\n",
        "  cau = cau.lower()\n",
        "  cau = word_tokenize(cau,format='text')\n",
        "  cau = cau.strip()\n",
        "  return cau"
      ],
      "execution_count": 5,
      "outputs": []
    },
    {
      "cell_type": "code",
      "metadata": {
        "colab": {
          "base_uri": "https://localhost:8080/"
        },
        "id": "08ncsuzj7nYA",
        "outputId": "a9724be7-b7af-45ec-cde1-f7513c952d4c"
      },
      "source": [
        "for i in range(len(data)):\n",
        "  data['Data'][i] = xuli(data['Data'][i])"
      ],
      "execution_count": 6,
      "outputs": [
        {
          "output_type": "stream",
          "text": [
            "/usr/local/lib/python3.7/dist-packages/ipykernel_launcher.py:2: SettingWithCopyWarning: \n",
            "A value is trying to be set on a copy of a slice from a DataFrame\n",
            "\n",
            "See the caveats in the documentation: https://pandas.pydata.org/pandas-docs/stable/user_guide/indexing.html#returning-a-view-versus-a-copy\n",
            "  \n"
          ],
          "name": "stderr"
        }
      ]
    },
    {
      "cell_type": "markdown",
      "metadata": {
        "id": "no1SzZfi4PW0"
      },
      "source": [
        "# Đếm số lần xuất hiện mỗi từ và visualize"
      ]
    },
    {
      "cell_type": "code",
      "metadata": {
        "id": "s4fLs8NzGNBA"
      },
      "source": [
        "# Đếm số lần xuất hiện của các từ\n",
        "count ={}\n",
        "for i in data['Data']:\n",
        "  for j in i.split():\n",
        "    count[j] = count.get(j,0)+1\n",
        "    "
      ],
      "execution_count": 7,
      "outputs": []
    },
    {
      "cell_type": "code",
      "metadata": {
        "id": "Ciy1HKqOHTbb"
      },
      "source": [
        "# sắp xếp giảm dần theo value\n",
        "count = dict(sorted(count.items(), key = lambda x: x[1],reverse=True))"
      ],
      "execution_count": 10,
      "outputs": []
    },
    {
      "cell_type": "code",
      "metadata": {
        "colab": {
          "base_uri": "https://localhost:8080/",
          "height": 542
        },
        "id": "BwbuJGnqKCg-",
        "outputId": "04395543-fef9-4e4d-974e-fa8ec4f726de"
      },
      "source": [
        "# Visuallize  \n",
        "import plotly.graph_objects as go\n",
        "key = [i for i in count]\n",
        "value = [count[i] for i in count]\n",
        "fig = go.Figure(data = [go.Bar(x=key[:50],y=value[:50],text=value[:50])])\n",
        "fig.update_xaxes(tickangle=40)\n",
        "fig.show()"
      ],
      "execution_count": 11,
      "outputs": [
        {
          "output_type": "display_data",
          "data": {
            "text/html": [
              "<html>\n",
              "<head><meta charset=\"utf-8\" /></head>\n",
              "<body>\n",
              "    <div>\n",
              "            <script src=\"https://cdnjs.cloudflare.com/ajax/libs/mathjax/2.7.5/MathJax.js?config=TeX-AMS-MML_SVG\"></script><script type=\"text/javascript\">if (window.MathJax) {MathJax.Hub.Config({SVG: {font: \"STIX-Web\"}});}</script>\n",
              "                <script type=\"text/javascript\">window.PlotlyConfig = {MathJaxConfig: 'local'};</script>\n",
              "        <script src=\"https://cdn.plot.ly/plotly-latest.min.js\"></script>    \n",
              "            <div id=\"643d42e6-d30c-4644-9f69-a4bb0656255b\" class=\"plotly-graph-div\" style=\"height:525px; width:100%;\"></div>\n",
              "            <script type=\"text/javascript\">\n",
              "                \n",
              "                    window.PLOTLYENV=window.PLOTLYENV || {};\n",
              "                    \n",
              "                if (document.getElementById(\"643d42e6-d30c-4644-9f69-a4bb0656255b\")) {\n",
              "                    Plotly.newPlot(\n",
              "                        '643d42e6-d30c-4644-9f69-a4bb0656255b',\n",
              "                        [{\"text\": [\"5930\", \"4984\", \"4541\", \"4309\", \"4033\", \"3421\", \"3321\", \"2965\", \"2784\", \"2588\", \"2575\", \"2333\", \"2189\", \"2139\", \"2132\", \"1907\", \"1885\", \"1868\", \"1846\", \"1748\", \"1730\", \"1681\", \"1668\", \"1654\", \"1620\", \"1535\", \"1457\", \"1425\", \"1384\", \"1347\", \"1345\", \"1345\", \"1316\", \"1125\", \"1120\", \"1103\", \"1099\", \"1052\", \"1028\", \"932\", \"921\", \"876\", \"872\", \"860\", \"858\", \"855\", \"845\", \"827\", \"822\", \"820\"], \"type\": \"bar\", \"x\": [\"\\u0103n\", \"kh\\u00f4ng\", \"qu\\u00e1n\", \"ngon\", \"m\\u00ecnh\", \"c\\u00f3\", \"l\\u00e0\", \"v\\u00e0\", \"th\\u00ec\", \"kh\\u00e1\", \"r\\u1ea5t\", \"nh\\u01b0ng\", \"gi\\u00e1\", \"nh\\u00e2n_vi\\u00ean\", \"\\u0111\\u01b0\\u1ee3c\", \"m\\u00f3n\", \"n\\u00ean\", \"\\u1edf\", \"kh\\u00f4ng_gian\", \"\\u0111\\u00e2y\", \"c\\u1ee7ng\", \"c\\u0169ng\", \"h\\u01a1i\", \"m\\u00e0\", \"l\\u1eafm\", \"v\\u1edbi\", \"l\\u1ea1i\", \"ph\\u1ee5c_v\\u1ee5\", \"nhi\\u1ec1u\", \"s\\u1ea1ch_s\\u1ebd\", \"th\\u1ea5y\", \"qu\\u00e1\", \"\\u0111\\u1ed3\", \"r\\u1ebb\", \"n\\u00e0y\", \"\\u0111i\", \"lu\\u00f4n\", \"cho\", \"b\\u00e1nh\", \"nh\\u01b0\", \"n\\u1eefa\", \"l\\u1ea7n\", \"ra\", \"g\\u1ecdi\", \"g\\u00e0\", \"c\\u00f2n\", \"ph\\u1ea3i\", \"c\\u00e1c\", \"n\\u01b0\\u1edbc\", \"h\\u01a1n\"], \"y\": [5930, 4984, 4541, 4309, 4033, 3421, 3321, 2965, 2784, 2588, 2575, 2333, 2189, 2139, 2132, 1907, 1885, 1868, 1846, 1748, 1730, 1681, 1668, 1654, 1620, 1535, 1457, 1425, 1384, 1347, 1345, 1345, 1316, 1125, 1120, 1103, 1099, 1052, 1028, 932, 921, 876, 872, 860, 858, 855, 845, 827, 822, 820]}],\n",
              "                        {\"template\": {\"data\": {\"bar\": [{\"error_x\": {\"color\": \"#2a3f5f\"}, \"error_y\": {\"color\": \"#2a3f5f\"}, \"marker\": {\"line\": {\"color\": \"#E5ECF6\", \"width\": 0.5}}, \"type\": \"bar\"}], \"barpolar\": [{\"marker\": {\"line\": {\"color\": \"#E5ECF6\", \"width\": 0.5}}, \"type\": \"barpolar\"}], \"carpet\": [{\"aaxis\": {\"endlinecolor\": \"#2a3f5f\", \"gridcolor\": \"white\", \"linecolor\": \"white\", \"minorgridcolor\": \"white\", \"startlinecolor\": \"#2a3f5f\"}, \"baxis\": {\"endlinecolor\": \"#2a3f5f\", \"gridcolor\": \"white\", \"linecolor\": \"white\", \"minorgridcolor\": \"white\", \"startlinecolor\": \"#2a3f5f\"}, \"type\": \"carpet\"}], \"choropleth\": [{\"colorbar\": {\"outlinewidth\": 0, \"ticks\": \"\"}, \"type\": \"choropleth\"}], \"contour\": [{\"colorbar\": {\"outlinewidth\": 0, \"ticks\": \"\"}, \"colorscale\": [[0.0, \"#0d0887\"], [0.1111111111111111, \"#46039f\"], [0.2222222222222222, \"#7201a8\"], [0.3333333333333333, \"#9c179e\"], [0.4444444444444444, \"#bd3786\"], [0.5555555555555556, \"#d8576b\"], [0.6666666666666666, \"#ed7953\"], [0.7777777777777778, \"#fb9f3a\"], [0.8888888888888888, \"#fdca26\"], [1.0, \"#f0f921\"]], \"type\": \"contour\"}], \"contourcarpet\": [{\"colorbar\": {\"outlinewidth\": 0, \"ticks\": \"\"}, \"type\": \"contourcarpet\"}], \"heatmap\": [{\"colorbar\": {\"outlinewidth\": 0, \"ticks\": \"\"}, \"colorscale\": [[0.0, \"#0d0887\"], [0.1111111111111111, \"#46039f\"], [0.2222222222222222, \"#7201a8\"], [0.3333333333333333, \"#9c179e\"], [0.4444444444444444, \"#bd3786\"], [0.5555555555555556, \"#d8576b\"], [0.6666666666666666, \"#ed7953\"], [0.7777777777777778, \"#fb9f3a\"], [0.8888888888888888, \"#fdca26\"], [1.0, \"#f0f921\"]], \"type\": \"heatmap\"}], \"heatmapgl\": [{\"colorbar\": {\"outlinewidth\": 0, \"ticks\": \"\"}, \"colorscale\": [[0.0, \"#0d0887\"], [0.1111111111111111, \"#46039f\"], [0.2222222222222222, \"#7201a8\"], [0.3333333333333333, \"#9c179e\"], [0.4444444444444444, \"#bd3786\"], [0.5555555555555556, \"#d8576b\"], [0.6666666666666666, \"#ed7953\"], [0.7777777777777778, \"#fb9f3a\"], [0.8888888888888888, \"#fdca26\"], [1.0, \"#f0f921\"]], \"type\": \"heatmapgl\"}], \"histogram\": [{\"marker\": {\"colorbar\": {\"outlinewidth\": 0, \"ticks\": \"\"}}, \"type\": \"histogram\"}], \"histogram2d\": [{\"colorbar\": {\"outlinewidth\": 0, \"ticks\": \"\"}, \"colorscale\": [[0.0, \"#0d0887\"], [0.1111111111111111, \"#46039f\"], [0.2222222222222222, \"#7201a8\"], [0.3333333333333333, \"#9c179e\"], [0.4444444444444444, \"#bd3786\"], [0.5555555555555556, \"#d8576b\"], [0.6666666666666666, \"#ed7953\"], [0.7777777777777778, \"#fb9f3a\"], [0.8888888888888888, \"#fdca26\"], [1.0, \"#f0f921\"]], \"type\": \"histogram2d\"}], \"histogram2dcontour\": [{\"colorbar\": {\"outlinewidth\": 0, \"ticks\": \"\"}, \"colorscale\": [[0.0, \"#0d0887\"], [0.1111111111111111, \"#46039f\"], [0.2222222222222222, \"#7201a8\"], [0.3333333333333333, \"#9c179e\"], [0.4444444444444444, \"#bd3786\"], [0.5555555555555556, \"#d8576b\"], [0.6666666666666666, \"#ed7953\"], [0.7777777777777778, \"#fb9f3a\"], [0.8888888888888888, \"#fdca26\"], [1.0, \"#f0f921\"]], \"type\": \"histogram2dcontour\"}], \"mesh3d\": [{\"colorbar\": {\"outlinewidth\": 0, \"ticks\": \"\"}, \"type\": \"mesh3d\"}], \"parcoords\": [{\"line\": {\"colorbar\": {\"outlinewidth\": 0, \"ticks\": \"\"}}, \"type\": \"parcoords\"}], \"pie\": [{\"automargin\": true, \"type\": \"pie\"}], \"scatter\": [{\"marker\": {\"colorbar\": {\"outlinewidth\": 0, \"ticks\": \"\"}}, \"type\": \"scatter\"}], \"scatter3d\": [{\"line\": {\"colorbar\": {\"outlinewidth\": 0, \"ticks\": \"\"}}, \"marker\": {\"colorbar\": {\"outlinewidth\": 0, \"ticks\": \"\"}}, \"type\": \"scatter3d\"}], \"scattercarpet\": [{\"marker\": {\"colorbar\": {\"outlinewidth\": 0, \"ticks\": \"\"}}, \"type\": \"scattercarpet\"}], \"scattergeo\": [{\"marker\": {\"colorbar\": {\"outlinewidth\": 0, \"ticks\": \"\"}}, \"type\": \"scattergeo\"}], \"scattergl\": [{\"marker\": {\"colorbar\": {\"outlinewidth\": 0, \"ticks\": \"\"}}, \"type\": \"scattergl\"}], \"scattermapbox\": [{\"marker\": {\"colorbar\": {\"outlinewidth\": 0, \"ticks\": \"\"}}, \"type\": \"scattermapbox\"}], \"scatterpolar\": [{\"marker\": {\"colorbar\": {\"outlinewidth\": 0, \"ticks\": \"\"}}, \"type\": \"scatterpolar\"}], \"scatterpolargl\": [{\"marker\": {\"colorbar\": {\"outlinewidth\": 0, \"ticks\": \"\"}}, \"type\": \"scatterpolargl\"}], \"scatterternary\": [{\"marker\": {\"colorbar\": {\"outlinewidth\": 0, \"ticks\": \"\"}}, \"type\": \"scatterternary\"}], \"surface\": [{\"colorbar\": {\"outlinewidth\": 0, \"ticks\": \"\"}, \"colorscale\": [[0.0, \"#0d0887\"], [0.1111111111111111, \"#46039f\"], [0.2222222222222222, \"#7201a8\"], [0.3333333333333333, \"#9c179e\"], [0.4444444444444444, \"#bd3786\"], [0.5555555555555556, \"#d8576b\"], [0.6666666666666666, \"#ed7953\"], [0.7777777777777778, \"#fb9f3a\"], [0.8888888888888888, \"#fdca26\"], [1.0, \"#f0f921\"]], \"type\": \"surface\"}], \"table\": [{\"cells\": {\"fill\": {\"color\": \"#EBF0F8\"}, \"line\": {\"color\": \"white\"}}, \"header\": {\"fill\": {\"color\": \"#C8D4E3\"}, \"line\": {\"color\": \"white\"}}, \"type\": \"table\"}]}, \"layout\": {\"annotationdefaults\": {\"arrowcolor\": \"#2a3f5f\", \"arrowhead\": 0, \"arrowwidth\": 1}, \"coloraxis\": {\"colorbar\": {\"outlinewidth\": 0, \"ticks\": \"\"}}, \"colorscale\": {\"diverging\": [[0, \"#8e0152\"], [0.1, \"#c51b7d\"], [0.2, \"#de77ae\"], [0.3, \"#f1b6da\"], [0.4, \"#fde0ef\"], [0.5, \"#f7f7f7\"], [0.6, \"#e6f5d0\"], [0.7, \"#b8e186\"], [0.8, \"#7fbc41\"], [0.9, \"#4d9221\"], [1, \"#276419\"]], \"sequential\": [[0.0, \"#0d0887\"], [0.1111111111111111, \"#46039f\"], [0.2222222222222222, \"#7201a8\"], [0.3333333333333333, \"#9c179e\"], [0.4444444444444444, \"#bd3786\"], [0.5555555555555556, \"#d8576b\"], [0.6666666666666666, \"#ed7953\"], [0.7777777777777778, \"#fb9f3a\"], [0.8888888888888888, \"#fdca26\"], [1.0, \"#f0f921\"]], \"sequentialminus\": [[0.0, \"#0d0887\"], [0.1111111111111111, \"#46039f\"], [0.2222222222222222, \"#7201a8\"], [0.3333333333333333, \"#9c179e\"], [0.4444444444444444, \"#bd3786\"], [0.5555555555555556, \"#d8576b\"], [0.6666666666666666, \"#ed7953\"], [0.7777777777777778, \"#fb9f3a\"], [0.8888888888888888, \"#fdca26\"], [1.0, \"#f0f921\"]]}, \"colorway\": [\"#636efa\", \"#EF553B\", \"#00cc96\", \"#ab63fa\", \"#FFA15A\", \"#19d3f3\", \"#FF6692\", \"#B6E880\", \"#FF97FF\", \"#FECB52\"], \"font\": {\"color\": \"#2a3f5f\"}, \"geo\": {\"bgcolor\": \"white\", \"lakecolor\": \"white\", \"landcolor\": \"#E5ECF6\", \"showlakes\": true, \"showland\": true, \"subunitcolor\": \"white\"}, \"hoverlabel\": {\"align\": \"left\"}, \"hovermode\": \"closest\", \"mapbox\": {\"style\": \"light\"}, \"paper_bgcolor\": \"white\", \"plot_bgcolor\": \"#E5ECF6\", \"polar\": {\"angularaxis\": {\"gridcolor\": \"white\", \"linecolor\": \"white\", \"ticks\": \"\"}, \"bgcolor\": \"#E5ECF6\", \"radialaxis\": {\"gridcolor\": \"white\", \"linecolor\": \"white\", \"ticks\": \"\"}}, \"scene\": {\"xaxis\": {\"backgroundcolor\": \"#E5ECF6\", \"gridcolor\": \"white\", \"gridwidth\": 2, \"linecolor\": \"white\", \"showbackground\": true, \"ticks\": \"\", \"zerolinecolor\": \"white\"}, \"yaxis\": {\"backgroundcolor\": \"#E5ECF6\", \"gridcolor\": \"white\", \"gridwidth\": 2, \"linecolor\": \"white\", \"showbackground\": true, \"ticks\": \"\", \"zerolinecolor\": \"white\"}, \"zaxis\": {\"backgroundcolor\": \"#E5ECF6\", \"gridcolor\": \"white\", \"gridwidth\": 2, \"linecolor\": \"white\", \"showbackground\": true, \"ticks\": \"\", \"zerolinecolor\": \"white\"}}, \"shapedefaults\": {\"line\": {\"color\": \"#2a3f5f\"}}, \"ternary\": {\"aaxis\": {\"gridcolor\": \"white\", \"linecolor\": \"white\", \"ticks\": \"\"}, \"baxis\": {\"gridcolor\": \"white\", \"linecolor\": \"white\", \"ticks\": \"\"}, \"bgcolor\": \"#E5ECF6\", \"caxis\": {\"gridcolor\": \"white\", \"linecolor\": \"white\", \"ticks\": \"\"}}, \"title\": {\"x\": 0.05}, \"xaxis\": {\"automargin\": true, \"gridcolor\": \"white\", \"linecolor\": \"white\", \"ticks\": \"\", \"title\": {\"standoff\": 15}, \"zerolinecolor\": \"white\", \"zerolinewidth\": 2}, \"yaxis\": {\"automargin\": true, \"gridcolor\": \"white\", \"linecolor\": \"white\", \"ticks\": \"\", \"title\": {\"standoff\": 15}, \"zerolinecolor\": \"white\", \"zerolinewidth\": 2}}}, \"xaxis\": {\"tickangle\": 40}},\n",
              "                        {\"responsive\": true}\n",
              "                    ).then(function(){\n",
              "                            \n",
              "var gd = document.getElementById('643d42e6-d30c-4644-9f69-a4bb0656255b');\n",
              "var x = new MutationObserver(function (mutations, observer) {{\n",
              "        var display = window.getComputedStyle(gd).display;\n",
              "        if (!display || display === 'none') {{\n",
              "            console.log([gd, 'removed!']);\n",
              "            Plotly.purge(gd);\n",
              "            observer.disconnect();\n",
              "        }}\n",
              "}});\n",
              "\n",
              "// Listen for the removal of the full notebook cells\n",
              "var notebookContainer = gd.closest('#notebook-container');\n",
              "if (notebookContainer) {{\n",
              "    x.observe(notebookContainer, {childList: true});\n",
              "}}\n",
              "\n",
              "// Listen for the clearing of the current output cell\n",
              "var outputEl = gd.closest('.output');\n",
              "if (outputEl) {{\n",
              "    x.observe(outputEl, {childList: true});\n",
              "}}\n",
              "\n",
              "                        })\n",
              "                };\n",
              "                \n",
              "            </script>\n",
              "        </div>\n",
              "</body>\n",
              "</html>"
            ]
          },
          "metadata": {
            "tags": []
          }
        }
      ]
    },
    {
      "cell_type": "markdown",
      "metadata": {
        "id": "PEeQAYZb4qfn"
      },
      "source": [
        "# Loại bỏ Stopword theo tần số xuất hiện"
      ]
    },
    {
      "cell_type": "code",
      "metadata": {
        "colab": {
          "base_uri": "https://localhost:8080/"
        },
        "id": "Ig98k11DL4sr",
        "outputId": "7e0b6b18-c66e-4624-9ce7-f001b03bfb3a"
      },
      "source": [
        "# Xây dựng stopword là các từ xuất hiện < 3\n",
        "stopword = [] \n",
        "for i in count:\n",
        "  if count[i]<3:\n",
        "    stopword.append(i)\n",
        "len(stopword)"
      ],
      "execution_count": 12,
      "outputs": [
        {
          "output_type": "execute_result",
          "data": {
            "text/plain": [
              "2970"
            ]
          },
          "metadata": {
            "tags": []
          },
          "execution_count": 12
        }
      ]
    },
    {
      "cell_type": "code",
      "metadata": {
        "colab": {
          "base_uri": "https://localhost:8080/"
        },
        "id": "THkOxaZ7-T4T",
        "outputId": "140aa2fb-aa2a-4d7d-eb62-3f6056bf464b"
      },
      "source": [
        "# Loại bỏ stopword khỏi data\n",
        "for i in range(len(data)):\n",
        "  s =''\n",
        "  cau = data['Data'][i].split()\n",
        "  for j in cau:\n",
        "    if j not in stopword:\n",
        "      s+= j+' '\n",
        "  s = s.strip()\n",
        "  data['Data'][i] = s"
      ],
      "execution_count": 13,
      "outputs": [
        {
          "output_type": "stream",
          "text": [
            "/usr/local/lib/python3.7/dist-packages/ipykernel_launcher.py:9: SettingWithCopyWarning:\n",
            "\n",
            "\n",
            "A value is trying to be set on a copy of a slice from a DataFrame\n",
            "\n",
            "See the caveats in the documentation: https://pandas.pydata.org/pandas-docs/stable/user_guide/indexing.html#returning-a-view-versus-a-copy\n",
            "\n"
          ],
          "name": "stderr"
        }
      ]
    },
    {
      "cell_type": "markdown",
      "metadata": {
        "id": "ATyOXUvW4zCW"
      },
      "source": [
        "# Xây dựng từ điển"
      ]
    },
    {
      "cell_type": "code",
      "metadata": {
        "colab": {
          "base_uri": "https://localhost:8080/"
        },
        "id": "PGc2IxEOBy1n",
        "outputId": "88014f14-5bf3-45cc-dd29-d52e8ffdb34c"
      },
      "source": [
        "# tạo vocab\n",
        "vocab = []\n",
        "for i in data['Data']:\n",
        "  for j in i.split():\n",
        "    if j not in vocab:\n",
        "      vocab.append(j)\n",
        "len(vocab)"
      ],
      "execution_count": 14,
      "outputs": [
        {
          "output_type": "execute_result",
          "data": {
            "text/plain": [
              "3225"
            ]
          },
          "metadata": {
            "tags": []
          },
          "execution_count": 14
        }
      ]
    },
    {
      "cell_type": "code",
      "metadata": {
        "id": "zNosN88dNcT2"
      },
      "source": [
        "# tạo từ điển\n",
        "word_id = {}\n",
        "id_word = {}\n",
        "dem = 1\n",
        "for i in vocab:\n",
        "  word_id[i] = dem\n",
        "  id_word[dem]=i\n",
        "  dem+=1"
      ],
      "execution_count": 15,
      "outputs": []
    },
    {
      "cell_type": "code",
      "metadata": {
        "colab": {
          "base_uri": "https://localhost:8080/"
        },
        "id": "OLE7FaseQjaD",
        "outputId": "7433e8ed-3891-4e80-d4b0-11cb57a365b0"
      },
      "source": [
        "len(id_word)"
      ],
      "execution_count": 16,
      "outputs": [
        {
          "output_type": "execute_result",
          "data": {
            "text/plain": [
              "3225"
            ]
          },
          "metadata": {
            "tags": []
          },
          "execution_count": 16
        }
      ]
    },
    {
      "cell_type": "code",
      "metadata": {
        "id": "qFZthec7gG8p"
      },
      "source": [
        "# import json \n",
        "# with open(\"/content/drive/MyDrive/NLP/model/word_id.json\", \"w\") as outfile: \n",
        "#     json.dump(word_id, outfile)"
      ],
      "execution_count": null,
      "outputs": []
    },
    {
      "cell_type": "code",
      "metadata": {
        "id": "C0OK5hKFQ1Ae"
      },
      "source": [
        "# Hàm chuyển câu thành số\n",
        "def chuyenCauThanhSo(cau):\n",
        "  arr = []\n",
        "  for i in cau.split():\n",
        "    arr.append(word_id[i])\n",
        "  return arr"
      ],
      "execution_count": 17,
      "outputs": []
    },
    {
      "cell_type": "markdown",
      "metadata": {
        "id": "TttVYk2M5CaQ"
      },
      "source": [
        "# Tìm câu dài nhất"
      ]
    },
    {
      "cell_type": "code",
      "metadata": {
        "colab": {
          "base_uri": "https://localhost:8080/"
        },
        "id": "qJKqOlpBRpNz",
        "outputId": "76081449-917b-43a5-e2f3-d9e1e4c1ba7b"
      },
      "source": [
        "# tìm câu dài nhất\n",
        "max_len = 1\n",
        "for i in data['Data']:\n",
        "  a = len(i.split())\n",
        "  if a > max_len:\n",
        "    max_len = a\n",
        "max_len"
      ],
      "execution_count": 18,
      "outputs": [
        {
          "output_type": "execute_result",
          "data": {
            "text/plain": [
              "117"
            ]
          },
          "metadata": {
            "tags": []
          },
          "execution_count": 18
        }
      ]
    },
    {
      "cell_type": "markdown",
      "metadata": {
        "id": "5IiHN-Ip5HXF"
      },
      "source": [
        "# Xây dụng data train model embedding"
      ]
    },
    {
      "cell_type": "code",
      "metadata": {
        "id": "EZRoF6meU_Wq"
      },
      "source": [
        "# tạo data train embedding\n",
        "word_embedding = []\n",
        "for i in data['Data']:\n",
        "    word_embedding.append(i.split())"
      ],
      "execution_count": 19,
      "outputs": []
    },
    {
      "cell_type": "code",
      "metadata": {
        "id": "pcg8MNq1Vfeq",
        "colab": {
          "base_uri": "https://localhost:8080/"
        },
        "outputId": "1414f498-968c-4345-f0c6-d719a342cd08"
      },
      "source": [
        "print(word_embedding[0])"
      ],
      "execution_count": 20,
      "outputs": [
        {
          "output_type": "stream",
          "text": [
            "['rất', 'đáng', 'ghé', 'thử', 'vào', 'đây', 'đi', 'sinh_nhật', 'bạn', 'thấy', 'quán', 'này', 'củng', 'được', 'đây', 'chứ', 'không_gian', 'sân', 'vườn', 'thoáng', 'và', 'đẹp', 'nữa']\n"
          ],
          "name": "stdout"
        }
      ]
    },
    {
      "cell_type": "code",
      "metadata": {
        "id": "bh4Ux9UWhlMb"
      },
      "source": [
        ""
      ],
      "execution_count": null,
      "outputs": []
    },
    {
      "cell_type": "markdown",
      "metadata": {
        "id": "aytsPLd-5P2C"
      },
      "source": [
        "# Train model embedding"
      ]
    },
    {
      "cell_type": "code",
      "metadata": {
        "id": "glMYiI-3UYh4"
      },
      "source": [
        "# model embedding\n",
        "model_skip = Word2Vec(word_embedding,window=2,min_count=1,size=300)\n",
        "# model_skip.save('/content/drive/MyDrive/NLP/model/model_skip_300.model')"
      ],
      "execution_count": 21,
      "outputs": []
    },
    {
      "cell_type": "code",
      "metadata": {
        "colab": {
          "base_uri": "https://localhost:8080/"
        },
        "id": "3mDVCJ2FVmnt",
        "outputId": "1d5fc8ca-6fd3-4d91-f4b8-3268a988dee1"
      },
      "source": [
        "\n",
        "model_skip.most_similar('tệ')"
      ],
      "execution_count": 22,
      "outputs": [
        {
          "output_type": "stream",
          "text": [
            "/usr/local/lib/python3.7/dist-packages/ipykernel_launcher.py:2: DeprecationWarning:\n",
            "\n",
            "Call to deprecated `most_similar` (Method will be removed in 4.0.0, use self.wv.most_similar() instead).\n",
            "\n"
          ],
          "name": "stderr"
        },
        {
          "output_type": "execute_result",
          "data": {
            "text/plain": [
              "[('ok', 0.9302281141281128),\n",
              " ('chán', 0.9160946011543274),\n",
              " ('tốt', 0.9128738641738892),\n",
              " ('đơ', 0.907355546951294),\n",
              " ('hài_lòng', 0.9031915068626404),\n",
              " ('cởi_mở', 0.9028476476669312),\n",
              " ('phải_chăng', 0.8927072882652283),\n",
              " ('chậm', 0.8872870206832886),\n",
              " ('kém', 0.8851527571678162),\n",
              " ('ổn', 0.8817865252494812)]"
            ]
          },
          "metadata": {
            "tags": []
          },
          "execution_count": 22
        }
      ]
    },
    {
      "cell_type": "code",
      "metadata": {
        "colab": {
          "base_uri": "https://localhost:8080/"
        },
        "id": "Ned4Gv7QWcOf",
        "outputId": "662a887f-25f3-45d6-a091-782d8ed009f8"
      },
      "source": [
        "model_skip.wv['ngon'].shape"
      ],
      "execution_count": 23,
      "outputs": [
        {
          "output_type": "execute_result",
          "data": {
            "text/plain": [
              "(300,)"
            ]
          },
          "metadata": {
            "tags": []
          },
          "execution_count": 23
        }
      ]
    },
    {
      "cell_type": "markdown",
      "metadata": {
        "id": "5lUVMe7b5UOP"
      },
      "source": [
        "# Load model embedding và visuallize các từ"
      ]
    },
    {
      "cell_type": "code",
      "metadata": {
        "id": "nMzj8ZLDVO_D",
        "colab": {
          "base_uri": "https://localhost:8080/",
          "height": 986
        },
        "outputId": "2d97ae21-dfb4-4243-9363-99e43cc88a9b"
      },
      "source": [
        "# load model embedding\n",
        "model_skip = Word2Vec.load('/content/drive/MyDrive/NLP/model/model_skip_300.model')\n",
        "\n",
        "\n",
        "def tsne_plot(model):\n",
        "    \"Creates and TSNE model and plots it\"\n",
        "    labels = []\n",
        "    tokens = []\n",
        "\n",
        "    for word in list(model.wv.vocab.keys())[0:200]:\n",
        "        tokens.append(model[word])\n",
        "        labels.append(word)\n",
        "    \n",
        "    tsne_model = TSNE(perplexity=40, n_components=2, init='pca', n_iter=2500, random_state=23)\n",
        "    new_values = tsne_model.fit_transform(tokens)\n",
        "\n",
        "    x = []\n",
        "    y = []\n",
        "    for value in new_values:\n",
        "        x.append(value[0])\n",
        "        y.append(value[1])\n",
        "        \n",
        "    plt.figure(figsize=(16, 16)) \n",
        "    for i in range(len(x)):\n",
        "        plt.scatter(x[i],y[i])\n",
        "        plt.annotate(labels[i],\n",
        "                     xy=(x[i], y[i]),\n",
        "                     xytext=(5, 2),\n",
        "                     textcoords='offset points',\n",
        "                     ha='right',\n",
        "                     va='bottom')\n",
        "    plt.show()\n",
        "tsne_plot(model_skip)"
      ],
      "execution_count": 25,
      "outputs": [
        {
          "output_type": "stream",
          "text": [
            "/usr/local/lib/python3.7/dist-packages/ipykernel_launcher.py:11: DeprecationWarning:\n",
            "\n",
            "Call to deprecated `__getitem__` (Method will be removed in 4.0.0, use self.wv.__getitem__() instead).\n",
            "\n"
          ],
          "name": "stderr"
        },
        {
          "output_type": "display_data",
          "data": {
            "image/png": "[encoded data removed]",
            "text/plain": [
              "<Figure size 1152x1152 with 1 Axes>"
            ]
          },
          "metadata": {
            "tags": [],
            "needs_background": "light"
          }
        }
      ]
    },
    {
      "cell_type": "code",
      "metadata": {
        "id": "S0f3e66GDlye"
      },
      "source": [
        ""
      ],
      "execution_count": null,
      "outputs": []
    },
    {
      "cell_type": "markdown",
      "metadata": {
        "id": "H5IKKlAO5edf"
      },
      "source": [
        "# Tạo matrix embedding"
      ]
    },
    {
      "cell_type": "code",
      "metadata": {
        "colab": {
          "base_uri": "https://localhost:8080/"
        },
        "id": "p-wI-fted0TS",
        "outputId": "04418abc-b4a5-4803-ef19-da77f962b782"
      },
      "source": [
        "# Tạo matrix embedding_matrix chuẩn bị train\n",
        "embedding_matrix = np.zeros((len(vocab)+1, 300))\n",
        "\n",
        "for k, v in id_word.items():\n",
        "    embedding_matrix[k] = model_skip.wv[v]\n",
        "embedding_matrix.shape"
      ],
      "execution_count": 26,
      "outputs": [
        {
          "output_type": "execute_result",
          "data": {
            "text/plain": [
              "(3226, 300)"
            ]
          },
          "metadata": {
            "tags": []
          },
          "execution_count": 26
        }
      ]
    },
    {
      "cell_type": "markdown",
      "metadata": {
        "id": "cd4eVUcf5h0V"
      },
      "source": [
        "# Chuyển data thành số"
      ]
    },
    {
      "cell_type": "code",
      "metadata": {
        "colab": {
          "base_uri": "https://localhost:8080/"
        },
        "id": "ywXTiZEGTCQI",
        "outputId": "128cb669-c728-4a67-e701-eee820ecbb06"
      },
      "source": [
        "# chuyển câu thành số\n",
        "x = []\n",
        "for i in data['Data']:\n",
        "  number = chuyenCauThanhSo(i)\n",
        "  x.append(number)\n",
        "len(x)"
      ],
      "execution_count": 27,
      "outputs": [
        {
          "output_type": "execute_result",
          "data": {
            "text/plain": [
              "20933"
            ]
          },
          "metadata": {
            "tags": []
          },
          "execution_count": 27
        }
      ]
    },
    {
      "cell_type": "markdown",
      "metadata": {
        "id": "spJOyykg5muK"
      },
      "source": [
        "# Padding câu"
      ]
    },
    {
      "cell_type": "code",
      "metadata": {
        "id": "BzIsMVZxgmKH"
      },
      "source": [
        "# padding câu\n",
        "x = pad_sequences(x,maxlen=max_len,padding='post')"
      ],
      "execution_count": 28,
      "outputs": []
    },
    {
      "cell_type": "markdown",
      "metadata": {
        "id": "AeLSgjcu5p2W"
      },
      "source": [
        "# One hot nhãn"
      ]
    },
    {
      "cell_type": "code",
      "metadata": {
        "id": "K2U9HojMUxSw"
      },
      "source": [
        "# one hot nhãn\n",
        "y = [i for i in data['Label']]\n",
        "y =tf.keras.utils.to_categorical(y,num_classes=10)"
      ],
      "execution_count": 29,
      "outputs": []
    },
    {
      "cell_type": "markdown",
      "metadata": {
        "id": "YyymV3VJ5thG"
      },
      "source": [
        "# Chia tập train và test"
      ]
    },
    {
      "cell_type": "code",
      "metadata": {
        "colab": {
          "base_uri": "https://localhost:8080/"
        },
        "id": "fFuJOAZOXoX3",
        "outputId": "ee3c8ad9-1c11-4615-e138-34dbe93ff5b3"
      },
      "source": [
        "x_train,x_test,y_train,y_test = train_test_split(x,y,test_size=0.2)\n",
        "y_train[0]"
      ],
      "execution_count": 30,
      "outputs": [
        {
          "output_type": "execute_result",
          "data": {
            "text/plain": [
              "array([0., 1., 0., 0., 0., 0., 0., 0., 0., 0.], dtype=float32)"
            ]
          },
          "metadata": {
            "tags": []
          },
          "execution_count": 30
        }
      ]
    },
    {
      "cell_type": "code",
      "metadata": {
        "id": "Evb2uwqfdZFM"
      },
      "source": [
        ""
      ],
      "execution_count": null,
      "outputs": []
    },
    {
      "cell_type": "markdown",
      "metadata": {
        "id": "Iq5UhQvZ5zFB"
      },
      "source": [
        "# Mô hình 1"
      ]
    },
    {
      "cell_type": "code",
      "metadata": {
        "colab": {
          "base_uri": "https://localhost:8080/"
        },
        "id": "8CvQcpEYdglw",
        "outputId": "449dd5d4-ec15-491f-ad6b-0e2e3caa34d2"
      },
      "source": [
        "model = Sequential()\n",
        "model.add(Embedding(len(vocab)+1, 300, input_length=max_len,weights=[embedding_matrix],trainable=False))\n",
        "model.add(LSTM(128))\n",
        "model.add(Dropout(0.2))\n",
        "model.add(Dense(64, activation='relu'))\n",
        "model.add(Dense(10, activation='softmax'))\n",
        "print(model.summary())\n",
        "model.compile(optimizer=Adam(), loss=categorical_crossentropy, metrics=['acc'])"
      ],
      "execution_count": 55,
      "outputs": [
        {
          "output_type": "stream",
          "text": [
            "Model: \"sequential_6\"\n",
            "_________________________________________________________________\n",
            "Layer (type)                 Output Shape              Param #   \n",
            "=================================================================\n",
            "embedding_6 (Embedding)      (None, 117, 300)          967800    \n",
            "_________________________________________________________________\n",
            "lstm_2 (LSTM)                (None, 128)               219648    \n",
            "_________________________________________________________________\n",
            "dropout_5 (Dropout)          (None, 128)               0         \n",
            "_________________________________________________________________\n",
            "dense_12 (Dense)             (None, 64)                8256      \n",
            "_________________________________________________________________\n",
            "dense_13 (Dense)             (None, 10)                650       \n",
            "=================================================================\n",
            "Total params: 1,196,354\n",
            "Trainable params: 228,554\n",
            "Non-trainable params: 967,800\n",
            "_________________________________________________________________\n",
            "None\n"
          ],
          "name": "stdout"
        }
      ]
    },
    {
      "cell_type": "code",
      "metadata": {
        "colab": {
          "base_uri": "https://localhost:8080/"
        },
        "id": "-cf9gPpkdoX0",
        "outputId": "e2395e5f-babd-4744-afca-2ea6d748370a"
      },
      "source": [
        "train = model.fit(x_train, y_train, batch_size=128, epochs=30, validation_data=(x_test,y_test))"
      ],
      "execution_count": null,
      "outputs": [
        {
          "output_type": "stream",
          "text": [
            "Epoch 1/30\n",
            "120/120 [==============================] - 66s 528ms/step - loss: 1.4493 - acc: 0.4915 - val_loss: 0.9195 - val_acc: 0.6624\n",
            "Epoch 2/30\n",
            "120/120 [==============================] - 62s 518ms/step - loss: 0.8836 - acc: 0.6885 - val_loss: 0.7535 - val_acc: 0.7342\n",
            "Epoch 3/30\n",
            "120/120 [==============================] - 62s 519ms/step - loss: 0.7105 - acc: 0.7533 - val_loss: 0.6649 - val_acc: 0.7715\n",
            "Epoch 4/30\n",
            "120/120 [==============================] - 62s 515ms/step - loss: 0.6377 - acc: 0.7824 - val_loss: 0.6246 - val_acc: 0.7884\n",
            "Epoch 5/30\n",
            "120/120 [==============================] - 62s 518ms/step - loss: 0.5416 - acc: 0.8150 - val_loss: 0.5753 - val_acc: 0.8009\n",
            "Epoch 6/30\n",
            "120/120 [==============================] - 62s 516ms/step - loss: 0.5047 - acc: 0.8283 - val_loss: 0.5560 - val_acc: 0.8140\n",
            "Epoch 7/30\n",
            "120/120 [==============================] - 63s 522ms/step - loss: 0.4558 - acc: 0.8419 - val_loss: 0.5242 - val_acc: 0.8218\n",
            "Epoch 8/30\n",
            "120/120 [==============================] - 62s 516ms/step - loss: 0.4056 - acc: 0.8631 - val_loss: 0.5064 - val_acc: 0.8260\n",
            "Epoch 9/30\n",
            "120/120 [==============================] - 62s 519ms/step - loss: 0.3676 - acc: 0.8686 - val_loss: 0.4868 - val_acc: 0.8424\n",
            "Epoch 10/30\n",
            "120/120 [==============================] - 62s 517ms/step - loss: 0.3450 - acc: 0.8848 - val_loss: 0.4606 - val_acc: 0.8450\n",
            "Epoch 11/30\n",
            "120/120 [==============================] - 62s 521ms/step - loss: 0.3145 - acc: 0.8924 - val_loss: 0.4412 - val_acc: 0.8581\n",
            "Epoch 12/30\n",
            "120/120 [==============================] - 62s 521ms/step - loss: 0.2699 - acc: 0.9057 - val_loss: 0.4538 - val_acc: 0.8552\n",
            "Epoch 13/30\n",
            "120/120 [==============================] - 63s 524ms/step - loss: 0.2525 - acc: 0.9135 - val_loss: 0.4473 - val_acc: 0.8636\n",
            "Epoch 14/30\n",
            "120/120 [==============================] - 63s 523ms/step - loss: 0.2108 - acc: 0.9306 - val_loss: 0.4620 - val_acc: 0.8531\n",
            "Epoch 15/30\n",
            "120/120 [==============================] - 64s 531ms/step - loss: 0.1982 - acc: 0.9330 - val_loss: 0.4356 - val_acc: 0.8667\n",
            "Epoch 16/30\n",
            "120/120 [==============================] - 73s 606ms/step - loss: 0.1785 - acc: 0.9378 - val_loss: 0.4073 - val_acc: 0.8742\n",
            "Epoch 17/30\n",
            "120/120 [==============================] - 68s 567ms/step - loss: 0.1662 - acc: 0.9444 - val_loss: 0.4339 - val_acc: 0.8763\n",
            "Epoch 18/30\n",
            "120/120 [==============================] - 63s 528ms/step - loss: 0.1384 - acc: 0.9532 - val_loss: 0.4192 - val_acc: 0.8813\n",
            "Epoch 19/30\n",
            "120/120 [==============================] - 64s 534ms/step - loss: 0.1245 - acc: 0.9621 - val_loss: 0.4599 - val_acc: 0.8787\n",
            "Epoch 20/30\n",
            "120/120 [==============================] - 64s 533ms/step - loss: 0.1131 - acc: 0.9647 - val_loss: 0.4235 - val_acc: 0.8949\n",
            "Epoch 21/30\n",
            "120/120 [==============================] - 63s 529ms/step - loss: 0.1037 - acc: 0.9693 - val_loss: 0.4394 - val_acc: 0.8849\n",
            "Epoch 22/30\n",
            "120/120 [==============================] - 64s 533ms/step - loss: 0.0981 - acc: 0.9673 - val_loss: 0.4694 - val_acc: 0.8881\n",
            "Epoch 23/30\n",
            "120/120 [==============================] - 63s 528ms/step - loss: 0.0904 - acc: 0.9720 - val_loss: 0.4680 - val_acc: 0.8891\n",
            "Epoch 24/30\n",
            "120/120 [==============================] - 63s 527ms/step - loss: 0.0798 - acc: 0.9738 - val_loss: 0.4526 - val_acc: 0.8941\n",
            "Epoch 25/30\n",
            "120/120 [==============================] - 65s 546ms/step - loss: 0.0755 - acc: 0.9747 - val_loss: 0.4678 - val_acc: 0.8954\n",
            "Epoch 26/30\n",
            "120/120 [==============================] - 64s 537ms/step - loss: 0.0712 - acc: 0.9768 - val_loss: 0.4836 - val_acc: 0.8946\n",
            "Epoch 27/30\n",
            "120/120 [==============================] - 66s 550ms/step - loss: 0.0664 - acc: 0.9784 - val_loss: 0.5068 - val_acc: 0.8923\n",
            "Epoch 28/30\n",
            "120/120 [==============================] - 65s 538ms/step - loss: 0.0581 - acc: 0.9828 - val_loss: 0.4834 - val_acc: 0.9035\n",
            "Epoch 29/30\n",
            "120/120 [==============================] - 63s 526ms/step - loss: 0.0535 - acc: 0.9830 - val_loss: 0.5292 - val_acc: 0.9016\n",
            "Epoch 30/30\n",
            "120/120 [==============================] - 63s 525ms/step - loss: 0.0595 - acc: 0.9811 - val_loss: 0.5796 - val_acc: 0.8863\n"
          ],
          "name": "stdout"
        }
      ]
    },
    {
      "cell_type": "code",
      "metadata": {
        "id": "oqt7m3Rfcl0F"
      },
      "source": [
        "model.save('/content/drive/MyDrive/NLP/model/model1.h5')"
      ],
      "execution_count": null,
      "outputs": []
    },
    {
      "cell_type": "code",
      "metadata": {
        "colab": {
          "base_uri": "https://localhost:8080/",
          "height": 295
        },
        "id": "2AeLaFFPeOTB",
        "outputId": "47fa953c-77a3-4bce-a5f8-16d98cd77b6e"
      },
      "source": [
        "import matplotlib.pyplot as plt\n",
        "plt.plot(train.history['loss'])\n",
        "plt.plot(train.history['val_loss'])\n",
        "plt.title('Train History')\n",
        "plt.xlabel('epoch')\n",
        "plt.ylabel('Loss')\n",
        "plt.legend(['loss','val_loss'])\n",
        "plt.show()"
      ],
      "execution_count": null,
      "outputs": [
        {
          "output_type": "display_data",
          "data": {
            "image/png": "[encoded data removed]",
            "text/plain": [
              "<Figure size 432x288 with 1 Axes>"
            ]
          },
          "metadata": {
            "tags": []
          }
        }
      ]
    },
    {
      "cell_type": "code",
      "metadata": {
        "colab": {
          "base_uri": "https://localhost:8080/",
          "height": 295
        },
        "id": "g4EF0eeMYpMT",
        "outputId": "c74140f0-9c4c-4da9-8be2-ddda49f0312a"
      },
      "source": [
        "plt.plot(train.history['acc'])\n",
        "plt.plot(train.history['val_acc'])\n",
        "plt.title('Train History')\n",
        "plt.xlabel('epoch')\n",
        "plt.ylabel('acuracy')\n",
        "plt.legend(['train','val'])\n",
        "plt.show()"
      ],
      "execution_count": null,
      "outputs": [
        {
          "output_type": "display_data",
          "data": {
            "image/png": "[encoded data removed]",
            "text/plain": [
              "<Figure size 432x288 with 1 Axes>"
            ]
          },
          "metadata": {
            "tags": []
          }
        }
      ]
    },
    {
      "cell_type": "code",
      "metadata": {
        "colab": {
          "base_uri": "https://localhost:8080/"
        },
        "id": "C_pknMN0yg8-",
        "outputId": "6f17900f-7b8f-402c-c6ea-8fadb3f39a86"
      },
      "source": [
        "model3 = Sequential()\n",
        "model3.add(Embedding(len(vocab)+1, 300, input_length=max_len,weights=[embedding_matrix],trainable=False))\n",
        "model3.add(GRU(256,return_sequences=True))\n",
        "model3.add(SimpleRNN(128))\n",
        "model3.add(Dropout(0.2))\n",
        "model3.add(Dense(64, activation='relu'))\n",
        "model3.add(Dense(10, activation='softmax'))\n",
        "print(model3.summary())\n",
        "model3.compile(optimizer=Adam(), loss=categorical_crossentropy, metrics=['acc'])"
      ],
      "execution_count": 35,
      "outputs": [
        {
          "output_type": "stream",
          "text": [
            "Model: \"sequential_2\"\n",
            "_________________________________________________________________\n",
            "Layer (type)                 Output Shape              Param #   \n",
            "=================================================================\n",
            "embedding_2 (Embedding)      (None, 117, 300)          967800    \n",
            "_________________________________________________________________\n",
            "gru_2 (GRU)                  (None, 117, 256)          428544    \n",
            "_________________________________________________________________\n",
            "simple_rnn_2 (SimpleRNN)     (None, 128)               49280     \n",
            "_________________________________________________________________\n",
            "dropout_2 (Dropout)          (None, 128)               0         \n",
            "_________________________________________________________________\n",
            "dense_4 (Dense)              (None, 64)                8256      \n",
            "_________________________________________________________________\n",
            "dense_5 (Dense)              (None, 10)                650       \n",
            "=================================================================\n",
            "Total params: 1,454,530\n",
            "Trainable params: 486,730\n",
            "Non-trainable params: 967,800\n",
            "_________________________________________________________________\n",
            "None\n"
          ],
          "name": "stdout"
        }
      ]
    },
    {
      "cell_type": "code",
      "metadata": {
        "colab": {
          "base_uri": "https://localhost:8080/"
        },
        "id": "W6mURKucyg_m",
        "outputId": "527e767f-1978-4b82-a203-14c60716f29a"
      },
      "source": [
        "train3 = model3.fit(x_train, y_train, batch_size=64, epochs=30, validation_data=(x_test,y_test))"
      ],
      "execution_count": null,
      "outputs": [
        {
          "output_type": "stream",
          "text": [
            "Epoch 1/30\n",
            "262/262 [==============================] - 205s 772ms/step - loss: 2.2128 - acc: 0.2468 - val_loss: 2.1645 - val_acc: 0.2663\n",
            "Epoch 2/30\n",
            "262/262 [==============================] - 201s 769ms/step - loss: 2.0763 - acc: 0.2897 - val_loss: 1.1876 - val_acc: 0.5734\n",
            "Epoch 3/30\n",
            "262/262 [==============================] - 201s 767ms/step - loss: 1.1221 - acc: 0.6092 - val_loss: 0.8040 - val_acc: 0.7495\n",
            "Epoch 4/30\n",
            "262/262 [==============================] - 201s 766ms/step - loss: 0.7593 - acc: 0.7636 - val_loss: 0.6819 - val_acc: 0.7867\n",
            "Epoch 5/30\n",
            "262/262 [==============================] - 200s 764ms/step - loss: 0.6636 - acc: 0.7937 - val_loss: 0.6271 - val_acc: 0.8068\n",
            "Epoch 6/30\n",
            "262/262 [==============================] - 200s 764ms/step - loss: 0.5856 - acc: 0.8162 - val_loss: 0.5954 - val_acc: 0.8163\n",
            "Epoch 7/30\n",
            "262/262 [==============================] - 200s 765ms/step - loss: 0.5296 - acc: 0.8350 - val_loss: 0.5434 - val_acc: 0.8400\n",
            "Epoch 8/30\n",
            "262/262 [==============================] - 200s 763ms/step - loss: 0.4776 - acc: 0.8536 - val_loss: 0.5270 - val_acc: 0.8428\n",
            "Epoch 9/30\n",
            "262/262 [==============================] - 200s 764ms/step - loss: 0.4166 - acc: 0.8688 - val_loss: 0.5131 - val_acc: 0.8493\n",
            "Epoch 10/30\n",
            "262/262 [==============================] - 200s 764ms/step - loss: 0.3675 - acc: 0.8877 - val_loss: 0.5208 - val_acc: 0.8507\n",
            "Epoch 11/30\n",
            "262/262 [==============================] - 200s 764ms/step - loss: 0.3224 - acc: 0.8978 - val_loss: 0.4811 - val_acc: 0.8703\n",
            "Epoch 12/30\n",
            "262/262 [==============================] - 201s 766ms/step - loss: 0.2820 - acc: 0.9141 - val_loss: 0.4764 - val_acc: 0.8722\n",
            "Epoch 13/30\n",
            "262/262 [==============================] - 203s 774ms/step - loss: 0.2581 - acc: 0.9200 - val_loss: 0.5149 - val_acc: 0.8545\n",
            "Epoch 14/30\n",
            "262/262 [==============================] - 202s 771ms/step - loss: 0.2105 - acc: 0.9354 - val_loss: 0.4878 - val_acc: 0.8713\n",
            "Epoch 15/30\n",
            "262/262 [==============================] - 202s 770ms/step - loss: 0.1820 - acc: 0.9470 - val_loss: 0.4943 - val_acc: 0.8789\n",
            "Epoch 16/30\n",
            "262/262 [==============================] - 202s 771ms/step - loss: 0.1671 - acc: 0.9508 - val_loss: 0.5264 - val_acc: 0.8820\n",
            "Epoch 17/30\n",
            "262/262 [==============================] - 200s 764ms/step - loss: 0.1417 - acc: 0.9586 - val_loss: 0.5065 - val_acc: 0.8758\n",
            "Epoch 18/30\n",
            "262/262 [==============================] - 198s 757ms/step - loss: 0.1284 - acc: 0.9613 - val_loss: 0.5656 - val_acc: 0.8737\n",
            "Epoch 19/30\n",
            "262/262 [==============================] - 199s 760ms/step - loss: 0.1147 - acc: 0.9675 - val_loss: 0.5296 - val_acc: 0.8799\n",
            "Epoch 20/30\n",
            "262/262 [==============================] - 200s 764ms/step - loss: 0.1044 - acc: 0.9704 - val_loss: 0.5217 - val_acc: 0.8830\n",
            "Epoch 21/30\n",
            "262/262 [==============================] - 199s 761ms/step - loss: 0.0978 - acc: 0.9713 - val_loss: 0.5772 - val_acc: 0.8768\n",
            "Epoch 22/30\n",
            "262/262 [==============================] - 200s 765ms/step - loss: 0.0834 - acc: 0.9759 - val_loss: 0.5732 - val_acc: 0.8854\n",
            "Epoch 23/30\n",
            "262/262 [==============================] - 199s 761ms/step - loss: 0.0720 - acc: 0.9798 - val_loss: 0.5881 - val_acc: 0.8897\n",
            "Epoch 24/30\n",
            "262/262 [==============================] - 200s 765ms/step - loss: 0.0834 - acc: 0.9748 - val_loss: 0.5618 - val_acc: 0.8889\n",
            "Epoch 25/30\n",
            "262/262 [==============================] - 202s 771ms/step - loss: 0.0664 - acc: 0.9826 - val_loss: 0.5774 - val_acc: 0.8834\n",
            "Epoch 26/30\n",
            "262/262 [==============================] - 205s 781ms/step - loss: 0.0672 - acc: 0.9794 - val_loss: 0.6172 - val_acc: 0.8858\n",
            "Epoch 27/30\n",
            "262/262 [==============================] - 203s 775ms/step - loss: 0.0686 - acc: 0.9797 - val_loss: 0.5966 - val_acc: 0.8856\n",
            "Epoch 28/30\n",
            "262/262 [==============================] - 203s 777ms/step - loss: 0.0655 - acc: 0.9829 - val_loss: 0.6021 - val_acc: 0.8846\n",
            "Epoch 29/30\n",
            "262/262 [==============================] - 203s 774ms/step - loss: 0.0718 - acc: 0.9792 - val_loss: 0.6336 - val_acc: 0.8839\n",
            "Epoch 30/30\n",
            "262/262 [==============================] - 202s 770ms/step - loss: 0.0531 - acc: 0.9850 - val_loss: 0.5909 - val_acc: 0.8942\n"
          ],
          "name": "stdout"
        }
      ]
    },
    {
      "cell_type": "code",
      "metadata": {
        "colab": {
          "base_uri": "https://localhost:8080/",
          "height": 295
        },
        "id": "_TqDAbl1yhBx",
        "outputId": "7fe205f6-7126-4e58-9879-8124adebfcfa"
      },
      "source": [
        "import matplotlib.pyplot as plt\n",
        "plt.plot(train3.history['loss'])\n",
        "plt.plot(train3.history['val_loss'])\n",
        "plt.title('Train History')\n",
        "plt.xlabel('epoch')\n",
        "plt.ylabel('Loss')\n",
        "plt.legend(['loss','val_loss'])\n",
        "plt.show()"
      ],
      "execution_count": null,
      "outputs": [
        {
          "output_type": "display_data",
          "data": {
            "image/png": "[encoded data removed]",
            "text/plain": [
              "<Figure size 432x288 with 1 Axes>"
            ]
          },
          "metadata": {
            "tags": []
          }
        }
      ]
    },
    {
      "cell_type": "code",
      "metadata": {
        "colab": {
          "base_uri": "https://localhost:8080/",
          "height": 295
        },
        "id": "lhgkRMJ0yhEI",
        "outputId": "15b7dd8d-fed3-43aa-8953-c469fa1b6349"
      },
      "source": [
        "plt.plot(train3.history['acc'])\n",
        "plt.plot(train3.history['val_acc'])\n",
        "plt.title('Train History')\n",
        "plt.xlabel('epoch')\n",
        "plt.ylabel('acuracy')\n",
        "plt.legend(['train','val'])\n",
        "plt.show()"
      ],
      "execution_count": null,
      "outputs": [
        {
          "output_type": "display_data",
          "data": {
            "image/png": "[encoded data removed]",
            "text/plain": [
              "<Figure size 432x288 with 1 Axes>"
            ]
          },
          "metadata": {
            "tags": []
          }
        }
      ]
    },
    {
      "cell_type": "code",
      "metadata": {
        "id": "wWdTaiFIyhHx"
      },
      "source": [
        "# model3.save('/content/drive/MyDrive/NLP/model/model3.h5')"
      ],
      "execution_count": null,
      "outputs": []
    },
    {
      "cell_type": "code",
      "metadata": {
        "id": "y7pR6TamyhJb"
      },
      "source": [
        ""
      ],
      "execution_count": null,
      "outputs": []
    },
    {
      "cell_type": "code",
      "metadata": {
        "id": "69FY5vMHlTOc",
        "colab": {
          "base_uri": "https://localhost:8080/"
        },
        "outputId": "a4830d97-9c1a-4e75-b826-dfd825bccc5c"
      },
      "source": [
        "model4 = Sequential()\n",
        "model4.add(Embedding(len(vocab)+1, 300, input_length=max_len,weights=[embedding_matrix],trainable=False))\n",
        "model4.add(Bidirectional(LSTM(64)))\n",
        "model4.add(Dropout(0.2))\n",
        "model4.add(Dense(64, activation='relu'))\n",
        "model4.add(Dense(32, activation='relu'))\n",
        "model4.add(Dense(10, activation='softmax'))\n",
        "print(model4.summary())\n",
        "model4.compile(optimizer=Adam(), loss=categorical_crossentropy, metrics=['acc'])"
      ],
      "execution_count": null,
      "outputs": [
        {
          "output_type": "stream",
          "text": [
            "Model: \"sequential_3\"\n",
            "_________________________________________________________________\n",
            "Layer (type)                 Output Shape              Param #   \n",
            "=================================================================\n",
            "embedding_3 (Embedding)      (None, 117, 300)          967800    \n",
            "_________________________________________________________________\n",
            "bidirectional_3 (Bidirection (None, 128)               186880    \n",
            "_________________________________________________________________\n",
            "dropout (Dropout)            (None, 128)               0         \n",
            "_________________________________________________________________\n",
            "dense_4 (Dense)              (None, 64)                8256      \n",
            "_________________________________________________________________\n",
            "dense_5 (Dense)              (None, 32)                2080      \n",
            "_________________________________________________________________\n",
            "dense_6 (Dense)              (None, 10)                330       \n",
            "=================================================================\n",
            "Total params: 1,165,346\n",
            "Trainable params: 197,546\n",
            "Non-trainable params: 967,800\n",
            "_________________________________________________________________\n",
            "None\n"
          ],
          "name": "stdout"
        }
      ]
    },
    {
      "cell_type": "code",
      "metadata": {
        "colab": {
          "base_uri": "https://localhost:8080/"
        },
        "id": "IAS3s_7ymI-h",
        "outputId": "ea69f74d-78ed-49d6-9a15-0aa54e64ce2f"
      },
      "source": [
        "train4 = model4.fit(x_train, y_train, batch_size=128, epochs=30, validation_data=(x_test,y_test))"
      ],
      "execution_count": null,
      "outputs": [
        {
          "output_type": "stream",
          "text": [
            "Epoch 1/30\n",
            "131/131 [==============================] - 75s 534ms/step - loss: 1.7272 - acc: 0.4248 - val_loss: 1.0413 - val_acc: 0.6365\n",
            "Epoch 2/30\n",
            "131/131 [==============================] - 68s 519ms/step - loss: 0.9928 - acc: 0.6548 - val_loss: 0.8718 - val_acc: 0.7003\n",
            "Epoch 3/30\n",
            "131/131 [==============================] - 69s 529ms/step - loss: 0.8226 - acc: 0.7245 - val_loss: 0.7722 - val_acc: 0.7497\n",
            "Epoch 4/30\n",
            "131/131 [==============================] - 70s 531ms/step - loss: 0.7380 - acc: 0.7529 - val_loss: 0.7220 - val_acc: 0.7624\n",
            "Epoch 5/30\n",
            "131/131 [==============================] - 68s 522ms/step - loss: 0.6958 - acc: 0.7691 - val_loss: 0.6782 - val_acc: 0.7741\n",
            "Epoch 6/30\n",
            "131/131 [==============================] - 69s 528ms/step - loss: 0.6450 - acc: 0.7851 - val_loss: 0.6645 - val_acc: 0.7850\n",
            "Epoch 7/30\n",
            "131/131 [==============================] - 69s 524ms/step - loss: 0.6151 - acc: 0.7975 - val_loss: 0.6304 - val_acc: 0.7915\n",
            "Epoch 8/30\n",
            "131/131 [==============================] - 69s 525ms/step - loss: 0.5933 - acc: 0.8063 - val_loss: 0.6473 - val_acc: 0.7910\n",
            "Epoch 9/30\n",
            "131/131 [==============================] - 70s 534ms/step - loss: 0.5859 - acc: 0.8051 - val_loss: 0.6143 - val_acc: 0.8027\n",
            "Epoch 10/30\n",
            "131/131 [==============================] - 70s 531ms/step - loss: 0.5578 - acc: 0.8147 - val_loss: 0.5967 - val_acc: 0.8073\n",
            "Epoch 11/30\n",
            "131/131 [==============================] - 69s 526ms/step - loss: 0.5282 - acc: 0.8272 - val_loss: 0.6121 - val_acc: 0.8063\n",
            "Epoch 12/30\n",
            "131/131 [==============================] - 69s 526ms/step - loss: 0.5162 - acc: 0.8318 - val_loss: 0.5849 - val_acc: 0.8163\n",
            "Epoch 13/30\n",
            "131/131 [==============================] - 69s 526ms/step - loss: 0.5029 - acc: 0.8319 - val_loss: 0.5691 - val_acc: 0.8171\n",
            "Epoch 14/30\n",
            "131/131 [==============================] - 68s 523ms/step - loss: 0.4909 - acc: 0.8346 - val_loss: 0.5671 - val_acc: 0.8166\n",
            "Epoch 15/30\n",
            "131/131 [==============================] - 69s 528ms/step - loss: 0.4792 - acc: 0.8404 - val_loss: 0.5501 - val_acc: 0.8259\n",
            "Epoch 16/30\n",
            "131/131 [==============================] - 69s 530ms/step - loss: 0.4635 - acc: 0.8391 - val_loss: 0.5455 - val_acc: 0.8295\n",
            "Epoch 17/30\n",
            "131/131 [==============================] - 71s 542ms/step - loss: 0.4310 - acc: 0.8541 - val_loss: 0.5529 - val_acc: 0.8278\n",
            "Epoch 18/30\n",
            "131/131 [==============================] - 71s 545ms/step - loss: 0.4338 - acc: 0.8517 - val_loss: 0.5408 - val_acc: 0.8273\n",
            "Epoch 19/30\n",
            "131/131 [==============================] - 70s 537ms/step - loss: 0.4214 - acc: 0.8567 - val_loss: 0.5422 - val_acc: 0.8314\n",
            "Epoch 20/30\n",
            "131/131 [==============================] - 70s 538ms/step - loss: 0.4178 - acc: 0.8596 - val_loss: 0.5311 - val_acc: 0.8326\n",
            "Epoch 21/30\n",
            "131/131 [==============================] - 70s 534ms/step - loss: 0.3925 - acc: 0.8673 - val_loss: 0.5245 - val_acc: 0.8390\n",
            "Epoch 22/30\n",
            "131/131 [==============================] - 71s 546ms/step - loss: 0.4022 - acc: 0.8653 - val_loss: 0.5297 - val_acc: 0.8359\n",
            "Epoch 23/30\n",
            "131/131 [==============================] - 71s 543ms/step - loss: 0.3803 - acc: 0.8731 - val_loss: 0.5270 - val_acc: 0.8364\n",
            "Epoch 24/30\n",
            "131/131 [==============================] - 72s 553ms/step - loss: 0.3626 - acc: 0.8764 - val_loss: 0.5120 - val_acc: 0.8436\n",
            "Epoch 25/30\n",
            "131/131 [==============================] - 72s 549ms/step - loss: 0.3704 - acc: 0.8724 - val_loss: 0.5115 - val_acc: 0.8412\n",
            "Epoch 26/30\n",
            "131/131 [==============================] - 71s 546ms/step - loss: 0.3535 - acc: 0.8807 - val_loss: 0.5179 - val_acc: 0.8405\n",
            "Epoch 27/30\n",
            "131/131 [==============================] - 71s 540ms/step - loss: 0.3521 - acc: 0.8825 - val_loss: 0.5266 - val_acc: 0.8443\n",
            "Epoch 28/30\n",
            "131/131 [==============================] - 71s 545ms/step - loss: 0.3324 - acc: 0.8855 - val_loss: 0.5116 - val_acc: 0.8476\n",
            "Epoch 29/30\n",
            "131/131 [==============================] - 71s 543ms/step - loss: 0.3281 - acc: 0.8880 - val_loss: 0.5270 - val_acc: 0.8414\n",
            "Epoch 30/30\n",
            "131/131 [==============================] - 71s 542ms/step - loss: 0.3222 - acc: 0.8880 - val_loss: 0.5084 - val_acc: 0.8495\n"
          ],
          "name": "stdout"
        }
      ]
    },
    {
      "cell_type": "code",
      "metadata": {
        "colab": {
          "base_uri": "https://localhost:8080/",
          "height": 295
        },
        "id": "j33aFA9-mJd4",
        "outputId": "967c84a6-ccbe-459a-b235-dc4ae2d4ed57"
      },
      "source": [
        "import matplotlib.pyplot as plt\n",
        "plt.plot(train4.history['loss'])\n",
        "plt.plot(train4.history['val_loss'])\n",
        "plt.title('Train History')\n",
        "plt.xlabel('epoch')\n",
        "plt.ylabel('Loss')\n",
        "plt.legend(['loss','val_loss'])\n",
        "plt.show()"
      ],
      "execution_count": null,
      "outputs": [
        {
          "output_type": "display_data",
          "data": {
            "image/png": "[encoded data removed]",
            "text/plain": [
              "<Figure size 432x288 with 1 Axes>"
            ]
          },
          "metadata": {
            "tags": [],
            "needs_background": "light"
          }
        }
      ]
    },
    {
      "cell_type": "code",
      "metadata": {
        "colab": {
          "base_uri": "https://localhost:8080/",
          "height": 295
        },
        "id": "G1gjPotKmJgo",
        "outputId": "83942d4d-ebd7-49c2-f913-f0f517d622b1"
      },
      "source": [
        "plt.plot(train4.history['acc'])\n",
        "plt.plot(train4.history['val_acc'])\n",
        "plt.title('Train History')\n",
        "plt.xlabel('epoch')\n",
        "plt.ylabel('acuracy')\n",
        "plt.legend(['train','val'])\n",
        "plt.show()"
      ],
      "execution_count": null,
      "outputs": [
        {
          "output_type": "display_data",
          "data": {
            "image/png": "[encoded data removed]",
            "text/plain": [
              "<Figure size 432x288 with 1 Axes>"
            ]
          },
          "metadata": {
            "tags": [],
            "needs_background": "light"
          }
        }
      ]
    },
    {
      "cell_type": "code",
      "metadata": {
        "colab": {
          "base_uri": "https://localhost:8080/"
        },
        "id": "8Opw4uwBHa37",
        "outputId": "b07325d0-d390-41ca-88f0-779cabe1bd53"
      },
      "source": [
        "model6 = Sequential()\n",
        "model6.add(Embedding(len(vocab)+1, 300, input_length=max_len,weights=[embedding_matrix],trainable=False))\n",
        "model6.add(Bidirectional(LSTM(128)))\n",
        "model6.add(Dropout(0.2))\n",
        "model6.add(Dense(128, activation='relu'))\n",
        "model6.add(Dense(64, activation='relu'))\n",
        "model6.add(Dense(10, activation='softmax'))\n",
        "model6.summary()\n",
        "model6.compile(optimizer=Adam(), loss=categorical_crossentropy, metrics=['acc'])"
      ],
      "execution_count": 40,
      "outputs": [
        {
          "output_type": "stream",
          "text": [
            "Model: \"sequential_4\"\n",
            "_________________________________________________________________\n",
            "Layer (type)                 Output Shape              Param #   \n",
            "=================================================================\n",
            "embedding_4 (Embedding)      (None, 117, 300)          967800    \n",
            "_________________________________________________________________\n",
            "bidirectional_1 (Bidirection (None, 256)               439296    \n",
            "_________________________________________________________________\n",
            "dropout_4 (Dropout)          (None, 256)               0         \n",
            "_________________________________________________________________\n",
            "dense_9 (Dense)              (None, 128)               32896     \n",
            "_________________________________________________________________\n",
            "dense_10 (Dense)             (None, 64)                8256      \n",
            "_________________________________________________________________\n",
            "dense_11 (Dense)             (None, 10)                650       \n",
            "=================================================================\n",
            "Total params: 1,448,898\n",
            "Trainable params: 481,098\n",
            "Non-trainable params: 967,800\n",
            "_________________________________________________________________\n"
          ],
          "name": "stdout"
        }
      ]
    },
    {
      "cell_type": "code",
      "metadata": {
        "id": "izeTwymNHgtT",
        "colab": {
          "base_uri": "https://localhost:8080/"
        },
        "outputId": "fd934e5c-8f50-4868-ad90-661defd8c0ac"
      },
      "source": [
        "train6 = model6.fit(x_train, y_train, batch_size=128, epochs=40, validation_data=(x_test,y_test))"
      ],
      "execution_count": 41,
      "outputs": [
        {
          "output_type": "stream",
          "text": [
            "Epoch 1/40\n",
            "131/131 [==============================] - 133s 981ms/step - loss: 1.5637 - acc: 0.4468 - val_loss: 0.9487 - val_acc: 0.6637\n",
            "Epoch 2/40\n",
            "131/131 [==============================] - 129s 983ms/step - loss: 0.9584 - acc: 0.6618 - val_loss: 0.8022 - val_acc: 0.7316\n",
            "Epoch 3/40\n",
            "131/131 [==============================] - 130s 995ms/step - loss: 0.7627 - acc: 0.7462 - val_loss: 0.7004 - val_acc: 0.7626\n",
            "Epoch 4/40\n",
            "131/131 [==============================] - 130s 991ms/step - loss: 0.6821 - acc: 0.7753 - val_loss: 0.6466 - val_acc: 0.7901\n",
            "Epoch 5/40\n",
            "131/131 [==============================] - 128s 976ms/step - loss: 0.6249 - acc: 0.7908 - val_loss: 0.6430 - val_acc: 0.7862\n",
            "Epoch 6/40\n",
            "131/131 [==============================] - 128s 977ms/step - loss: 0.5747 - acc: 0.8062 - val_loss: 0.5838 - val_acc: 0.8061\n",
            "Epoch 7/40\n",
            "131/131 [==============================] - 127s 972ms/step - loss: 0.5463 - acc: 0.8178 - val_loss: 0.5725 - val_acc: 0.8180\n",
            "Epoch 8/40\n",
            "131/131 [==============================] - 128s 977ms/step - loss: 0.5328 - acc: 0.8207 - val_loss: 0.5463 - val_acc: 0.8237\n",
            "Epoch 9/40\n",
            "131/131 [==============================] - 127s 972ms/step - loss: 0.5007 - acc: 0.8309 - val_loss: 0.5355 - val_acc: 0.8240\n",
            "Epoch 10/40\n",
            "131/131 [==============================] - 128s 975ms/step - loss: 0.4666 - acc: 0.8407 - val_loss: 0.5328 - val_acc: 0.8316\n",
            "Epoch 11/40\n",
            "131/131 [==============================] - 128s 979ms/step - loss: 0.4367 - acc: 0.8527 - val_loss: 0.5199 - val_acc: 0.8335\n",
            "Epoch 12/40\n",
            "131/131 [==============================] - 128s 975ms/step - loss: 0.4117 - acc: 0.8597 - val_loss: 0.5123 - val_acc: 0.8385\n",
            "Epoch 13/40\n",
            "131/131 [==============================] - 127s 971ms/step - loss: 0.3855 - acc: 0.8671 - val_loss: 0.4952 - val_acc: 0.8412\n",
            "Epoch 14/40\n",
            "131/131 [==============================] - 127s 974ms/step - loss: 0.3662 - acc: 0.8781 - val_loss: 0.4937 - val_acc: 0.8445\n",
            "Epoch 15/40\n",
            "131/131 [==============================] - 128s 977ms/step - loss: 0.3331 - acc: 0.8867 - val_loss: 0.4829 - val_acc: 0.8503\n",
            "Epoch 16/40\n",
            "131/131 [==============================] - 127s 972ms/step - loss: 0.3068 - acc: 0.8930 - val_loss: 0.4836 - val_acc: 0.8514\n",
            "Epoch 17/40\n",
            "131/131 [==============================] - 127s 969ms/step - loss: 0.3003 - acc: 0.8959 - val_loss: 0.4972 - val_acc: 0.8462\n",
            "Epoch 18/40\n",
            "131/131 [==============================] - 128s 980ms/step - loss: 0.2937 - acc: 0.8964 - val_loss: 0.4782 - val_acc: 0.8596\n",
            "Epoch 19/40\n",
            "131/131 [==============================] - 128s 978ms/step - loss: 0.2834 - acc: 0.9002 - val_loss: 0.4833 - val_acc: 0.8660\n",
            "Epoch 20/40\n",
            "131/131 [==============================] - 127s 972ms/step - loss: 0.2485 - acc: 0.9135 - val_loss: 0.4776 - val_acc: 0.8572\n",
            "Epoch 21/40\n",
            "131/131 [==============================] - 128s 980ms/step - loss: 0.2373 - acc: 0.9177 - val_loss: 0.4944 - val_acc: 0.8620\n",
            "Epoch 22/40\n",
            "131/131 [==============================] - 128s 975ms/step - loss: 0.2317 - acc: 0.9232 - val_loss: 0.4966 - val_acc: 0.8696\n",
            "Epoch 23/40\n",
            "131/131 [==============================] - 127s 973ms/step - loss: 0.2123 - acc: 0.9272 - val_loss: 0.5227 - val_acc: 0.8686\n",
            "Epoch 24/40\n",
            "131/131 [==============================] - 127s 972ms/step - loss: 0.2055 - acc: 0.9281 - val_loss: 0.5199 - val_acc: 0.8665\n",
            "Epoch 25/40\n",
            "131/131 [==============================] - 127s 969ms/step - loss: 0.1875 - acc: 0.9351 - val_loss: 0.5096 - val_acc: 0.8756\n",
            "Epoch 26/40\n",
            "131/131 [==============================] - 127s 972ms/step - loss: 0.1685 - acc: 0.9418 - val_loss: 0.5341 - val_acc: 0.8758\n",
            "Epoch 27/40\n",
            "131/131 [==============================] - 128s 976ms/step - loss: 0.1668 - acc: 0.9420 - val_loss: 0.5713 - val_acc: 0.8734\n",
            "Epoch 28/40\n",
            "131/131 [==============================] - 129s 985ms/step - loss: 0.1654 - acc: 0.9417 - val_loss: 0.5791 - val_acc: 0.8744\n",
            "Epoch 29/40\n",
            "131/131 [==============================] - 129s 987ms/step - loss: 0.1575 - acc: 0.9448 - val_loss: 0.5636 - val_acc: 0.8765\n",
            "Epoch 30/40\n",
            "131/131 [==============================] - 127s 971ms/step - loss: 0.1386 - acc: 0.9504 - val_loss: 0.6057 - val_acc: 0.8643\n",
            "Epoch 31/40\n",
            "131/131 [==============================] - 127s 974ms/step - loss: 0.1352 - acc: 0.9533 - val_loss: 0.5855 - val_acc: 0.8791\n",
            "Epoch 32/40\n",
            "131/131 [==============================] - 128s 977ms/step - loss: 0.1259 - acc: 0.9558 - val_loss: 0.5743 - val_acc: 0.8832\n",
            "Epoch 33/40\n",
            "131/131 [==============================] - 128s 978ms/step - loss: 0.1112 - acc: 0.9609 - val_loss: 0.6174 - val_acc: 0.8744\n",
            "Epoch 34/40\n",
            "131/131 [==============================] - 127s 970ms/step - loss: 0.1020 - acc: 0.9634 - val_loss: 0.6782 - val_acc: 0.8689\n",
            "Epoch 35/40\n",
            "131/131 [==============================] - 127s 969ms/step - loss: 0.1135 - acc: 0.9597 - val_loss: 0.6585 - val_acc: 0.8791\n",
            "Epoch 36/40\n",
            "131/131 [==============================] - 127s 970ms/step - loss: 0.1033 - acc: 0.9632 - val_loss: 0.6410 - val_acc: 0.8791\n",
            "Epoch 37/40\n",
            "131/131 [==============================] - 127s 968ms/step - loss: 0.0973 - acc: 0.9648 - val_loss: 0.6439 - val_acc: 0.8901\n",
            "Epoch 38/40\n",
            "131/131 [==============================] - 127s 969ms/step - loss: 0.0842 - acc: 0.9707 - val_loss: 0.6574 - val_acc: 0.8825\n",
            "Epoch 39/40\n",
            "131/131 [==============================] - 127s 968ms/step - loss: 0.0944 - acc: 0.9673 - val_loss: 0.6467 - val_acc: 0.8870\n",
            "Epoch 40/40\n",
            "131/131 [==============================] - 127s 968ms/step - loss: 0.0814 - acc: 0.9708 - val_loss: 0.6630 - val_acc: 0.8803\n"
          ],
          "name": "stdout"
        }
      ]
    },
    {
      "cell_type": "code",
      "metadata": {
        "id": "V5oT71l5W_wT",
        "colab": {
          "base_uri": "https://localhost:8080/",
          "height": 295
        },
        "outputId": "e336e2c6-5701-4ee2-b0a5-90c1e0a1ae77"
      },
      "source": [
        "import matplotlib.pyplot as plt\n",
        "plt.plot(train6.history['loss'])\n",
        "plt.plot(train6.history['val_loss'])\n",
        "plt.title('Train History')\n",
        "plt.xlabel('epoch')\n",
        "plt.ylabel('Loss')\n",
        "plt.legend(['loss','val_loss'])\n",
        "plt.show()"
      ],
      "execution_count": 42,
      "outputs": [
        {
          "output_type": "display_data",
          "data": {
            "image/png": "[encoded data removed]",
            "text/plain": [
              "<Figure size 432x288 with 1 Axes>"
            ]
          },
          "metadata": {
            "tags": [],
            "needs_background": "light"
          }
        }
      ]
    },
    {
      "cell_type": "code",
      "metadata": {
        "id": "iE9lC0kXXP5f",
        "colab": {
          "base_uri": "https://localhost:8080/",
          "height": 295
        },
        "outputId": "a1785026-dbe5-42da-ac0e-58b89a6156f5"
      },
      "source": [
        "plt.plot(train6.history['acc'])\n",
        "plt.plot(train6.history['val_acc'])\n",
        "plt.title('Train History')\n",
        "plt.xlabel('epoch')\n",
        "plt.ylabel('acuracy')\n",
        "plt.legend(['train','val'])\n",
        "plt.show()"
      ],
      "execution_count": 43,
      "outputs": [
        {
          "output_type": "display_data",
          "data": {
            "image/png": "[encoded data removed]",
            "text/plain": [
              "<Figure size 432x288 with 1 Axes>"
            ]
          },
          "metadata": {
            "tags": [],
            "needs_background": "light"
          }
        }
      ]
    },
    {
      "cell_type": "markdown",
      "metadata": {
        "id": "nryxeTLNlUTQ"
      },
      "source": [
        "# Mô hình SVM"
      ]
    },
    {
      "cell_type": "markdown",
      "metadata": {
        "id": "jqYwU67C_FWP"
      },
      "source": [
        "## Khai báo thư viện"
      ]
    },
    {
      "cell_type": "code",
      "metadata": {
        "id": "7eb_o_Dvuq3a"
      },
      "source": [
        "from sklearn.feature_extraction.text import TfidfVectorizer\n",
        "from sklearn.externals import joblib\n",
        "from sklearn import svm,metrics"
      ],
      "execution_count": null,
      "outputs": []
    },
    {
      "cell_type": "markdown",
      "metadata": {
        "id": "ZskWYjoP_PFP"
      },
      "source": [
        "## Chia dữ liệu"
      ]
    },
    {
      "cell_type": "code",
      "metadata": {
        "id": "mnNSxuoGknq4"
      },
      "source": [
        "x_train1,x_test1,y_train1,y_test1 = train_test_split(data['Data'],data['Label'],test_size=0.2)"
      ],
      "execution_count": null,
      "outputs": []
    },
    {
      "cell_type": "code",
      "metadata": {
        "id": "7-rFkHIJce0g",
        "colab": {
          "base_uri": "https://localhost:8080/"
        },
        "outputId": "98f0739a-f78d-4629-e68d-85a7e5a5e945"
      },
      "source": [
        "print(x_train1.shape)\n",
        "print(x_test1.shape)"
      ],
      "execution_count": null,
      "outputs": [
        {
          "output_type": "stream",
          "text": [
            "(16746,)\n",
            "(4187,)\n"
          ],
          "name": "stdout"
        }
      ]
    },
    {
      "cell_type": "markdown",
      "metadata": {
        "id": "f5G5N99d_UlB"
      },
      "source": [
        "## Train mô hình embdding"
      ]
    },
    {
      "cell_type": "code",
      "metadata": {
        "id": "gog_kiAdkntr",
        "colab": {
          "base_uri": "https://localhost:8080/"
        },
        "outputId": "6e10dae5-35e5-4381-c74e-36c4cd910de5"
      },
      "source": [
        "em = TfidfVectorizer()\n",
        "em.fit(x_train1)\n",
        "joblib.dump(em, '/content/drive/MyDrive/NLP/model/tfidf.pkl')\n"
      ],
      "execution_count": null,
      "outputs": [
        {
          "output_type": "execute_result",
          "data": {
            "text/plain": [
              "['/content/drive/MyDrive/NLP/model/tfidf.pkl']"
            ]
          },
          "metadata": {
            "tags": []
          },
          "execution_count": 132
        }
      ]
    },
    {
      "cell_type": "markdown",
      "metadata": {
        "id": "2LJ5JLda_qCp"
      },
      "source": [
        "## Cho tập train test qua model embedding"
      ]
    },
    {
      "cell_type": "code",
      "metadata": {
        "id": "t2oAnbQH-kJl"
      },
      "source": [
        "x_train1 =  em.transform(x_train1)\n",
        "x_test1 = em.transform(x_test1)"
      ],
      "execution_count": null,
      "outputs": []
    },
    {
      "cell_type": "code",
      "metadata": {
        "colab": {
          "base_uri": "https://localhost:8080/"
        },
        "id": "iz2KpOTA_CRl",
        "outputId": "3b2837f8-0d0c-481c-a982-111c0ad3f374"
      },
      "source": [
        "print(x_train1[10])"
      ],
      "execution_count": null,
      "outputs": [
        {
          "output_type": "stream",
          "text": [
            "  (0, 3086)\t0.3712972544007523\n",
            "  (0, 2984)\t0.21062694854822803\n",
            "  (0, 2917)\t0.1033984245695899\n",
            "  (0, 2815)\t0.23952022366718784\n",
            "  (0, 2708)\t0.20212357737960956\n",
            "  (0, 2704)\t0.1310193300381477\n",
            "  (0, 2695)\t0.2955376995952315\n",
            "  (0, 2488)\t0.3104052025763413\n",
            "  (0, 2355)\t0.2689175015532992\n",
            "  (0, 2270)\t0.1341779357744605\n",
            "  (0, 1735)\t0.14803833638866024\n",
            "  (0, 1603)\t0.19866468993304784\n",
            "  (0, 1580)\t0.189694693823416\n",
            "  (0, 1465)\t0.2355448323872013\n",
            "  (0, 1234)\t0.22353438010795978\n",
            "  (0, 964)\t0.37854497039428997\n",
            "  (0, 810)\t0.1820789864268074\n",
            "  (0, 383)\t0.1959950855000296\n"
          ],
          "name": "stdout"
        }
      ]
    },
    {
      "cell_type": "markdown",
      "metadata": {
        "id": "DrsjHMSL_vv_"
      },
      "source": [
        "## Tran model SVM"
      ]
    },
    {
      "cell_type": "code",
      "metadata": {
        "id": "pEYNzaj-knwM",
        "colab": {
          "base_uri": "https://localhost:8080/"
        },
        "outputId": "d5662d6f-a60f-4d2f-f728-bf3e7f6658d1"
      },
      "source": [
        "model5 = svm.SVC()\n",
        "model5.fit(x_train1,y_train1)\n",
        "joblib.dump(model5, '/content/drive/MyDrive/NLP/model/saved_model.pkl')"
      ],
      "execution_count": null,
      "outputs": [
        {
          "output_type": "execute_result",
          "data": {
            "text/plain": [
              "['/content/drive/MyDrive/NLP/model/saved_model.pkl']"
            ]
          },
          "metadata": {
            "tags": []
          },
          "execution_count": 135
        }
      ]
    },
    {
      "cell_type": "code",
      "metadata": {
        "id": "QoVWA-vMknyU",
        "colab": {
          "base_uri": "https://localhost:8080/"
        },
        "outputId": "e231d469-f8e5-420b-feff-bed7c92f634e"
      },
      "source": [
        "print(\"Accuracy :\", model5.score(x_test1, y_test1))"
      ],
      "execution_count": null,
      "outputs": [
        {
          "output_type": "stream",
          "text": [
            "Accuracy : 0.8963458323381897\n"
          ],
          "name": "stdout"
        }
      ]
    },
    {
      "cell_type": "code",
      "metadata": {
        "id": "-HNdvrgOq9Gk"
      },
      "source": [
        "pre = model5.predict(x_test1)"
      ],
      "execution_count": null,
      "outputs": []
    },
    {
      "cell_type": "code",
      "metadata": {
        "id": "-g5Yt38SKFgc",
        "colab": {
          "base_uri": "https://localhost:8080/"
        },
        "outputId": "5c39c140-c17f-49d6-d559-0ce08d7ba099"
      },
      "source": [
        "print(metrics.classification_report(y_test1,pre))"
      ],
      "execution_count": null,
      "outputs": [
        {
          "output_type": "stream",
          "text": [
            "              precision    recall  f1-score   support\n",
            "\n",
            "           0       0.83      0.91      0.87      1146\n",
            "           1       0.87      0.81      0.84       576\n",
            "           2       0.92      0.79      0.85       229\n",
            "           3       0.88      0.83      0.85       305\n",
            "           4       0.96      0.92      0.94       251\n",
            "           5       0.94      0.92      0.93       336\n",
            "           6       0.95      0.93      0.94       484\n",
            "           7       0.96      0.99      0.97       275\n",
            "           8       0.93      0.93      0.93       365\n",
            "           9       0.97      0.95      0.96       220\n",
            "\n",
            "    accuracy                           0.90      4187\n",
            "   macro avg       0.92      0.90      0.91      4187\n",
            "weighted avg       0.90      0.90      0.90      4187\n",
            "\n"
          ],
          "name": "stdout"
        }
      ]
    },
    {
      "cell_type": "markdown",
      "metadata": {
        "id": "-r7yikapKF_d"
      },
      "source": [
        "## Predict"
      ]
    },
    {
      "cell_type": "markdown",
      "metadata": {
        "id": "iMauv6xH_9LS"
      },
      "source": [
        "### Predict SVM"
      ]
    },
    {
      "cell_type": "code",
      "metadata": {
        "id": "bq7L1jROkn0o",
        "colab": {
          "base_uri": "https://localhost:8080/"
        },
        "outputId": "aaec1daa-9ef6-4f3f-821d-7c9529dc4822"
      },
      "source": [
        "# #predict model embedding tfidf\n",
        "a = 'Bún chả ở đây ngon vừa miệng. Quán tầm buổi trưa đông khách dã man luôn. Nên là đến thì ngồi đợi 10 phút thì có đồ nha'\n",
        "arr = []\n",
        "\n",
        "for i in a.split('.'):\n",
        "  a = xuli(i)\n",
        "  a = np.array([a])\n",
        "  a.shape\n",
        "  emb = joblib.load('/content/drive/MyDrive/NLP/model/tfidf.pkl')\n",
        "  em = emb.transform(a)\n",
        "  model = joblib.load('/content/drive/MyDrive/NLP/model/saved_model.pkl')\n",
        "  result = model.predict(em)\n",
        "  arr.append(result[0])\n",
        "arr"
      ],
      "execution_count": null,
      "outputs": [
        {
          "output_type": "execute_result",
          "data": {
            "text/plain": [
              "[1, 0, 0]"
            ]
          },
          "metadata": {
            "tags": []
          },
          "execution_count": 144
        }
      ]
    },
    {
      "cell_type": "markdown",
      "metadata": {
        "id": "ROhUwG9WAFD7"
      },
      "source": [
        "## Predict GRU"
      ]
    },
    {
      "cell_type": "code",
      "metadata": {
        "id": "8wnPi9lC1NWw"
      },
      "source": [
        "label = {\n",
        "      0:'tào lao',1:'Món ngon, tuyệt vời',2:'Món tệ, dở',3:'Món bình thường, tạm ổn',4:'Giá cao',5:'Giá rẻ',6:'Không gian thoải mái ,Sạch hợp vệ sinh',7:'Không gian hẹp, mất vệ sinh',8:'Thái độ phục vụ tốt, món lên nhanh',9:'Thái đô nhân viên không tốt, món lên chậm'    \n",
        "  }"
      ],
      "execution_count": 52,
      "outputs": []
    },
    {
      "cell_type": "code",
      "metadata": {
        "colab": {
          "base_uri": "https://localhost:8080/"
        },
        "id": "OPP7AJlivcp8",
        "outputId": "db5cb79a-91cb-4ce4-b009-0ba1a51eece8"
      },
      "source": [
        "label"
      ],
      "execution_count": 53,
      "outputs": [
        {
          "output_type": "execute_result",
          "data": {
            "text/plain": [
              "{0: 'tào lao',\n",
              " 1: 'Món ngon, tuyệt vời',\n",
              " 2: 'Món tệ, dở',\n",
              " 3: 'Món bình thường, tạm ổn',\n",
              " 4: 'Giá cao',\n",
              " 5: 'Giá rẻ',\n",
              " 6: 'Không gian thoải mái ,Sạch hợp vệ sinh',\n",
              " 7: 'Không gian hẹp, mất vệ sinh',\n",
              " 8: 'Thái độ phục vụ tốt, món lên nhanh',\n",
              " 9: 'Thái đô nhân viên không tốt, món lên chậm'}"
            ]
          },
          "metadata": {
            "tags": []
          },
          "execution_count": 53
        }
      ]
    },
    {
      "cell_type": "code",
      "metadata": {
        "id": "-qBwgLNbXJ8m"
      },
      "source": [
        "#predict model embedding skip gram\n",
        "import json\n",
        "f = open('/content/drive/MyDrive/NLP/model/word_id.json',)\n",
        "word_id = json.load(f)\n",
        "# Closing file\n",
        "f.close()"
      ],
      "execution_count": 44,
      "outputs": []
    },
    {
      "cell_type": "code",
      "metadata": {
        "id": "-OY1mhiuhTrd"
      },
      "source": [
        "def chuyenCauThanhSo(cau):\n",
        "  arr = []\n",
        "  for i in cau.split():\n",
        "    arr.append(word_id[i])\n",
        "  return arr"
      ],
      "execution_count": 45,
      "outputs": []
    },
    {
      "cell_type": "code",
      "metadata": {
        "id": "jlzmeZaruq6P"
      },
      "source": [
        "\n",
        "def predict(model,cau):\n",
        "  arr = []\n",
        "  for cau in a.split('.'):\n",
        "    cau = xuli(cau)\n",
        "    s = ''\n",
        "    for i in cau.split():\n",
        "      if i in list(word_id.keys()):\n",
        "        s+=i+' '\n",
        "    s = s.strip()\n",
        "    # print(s)\n",
        "    s = chuyenCauThanhSo(s)\n",
        "    if len(s)>0:\n",
        "      s = pad_sequences([s],maxlen=max_len,padding='post')\n",
        "      pre = model.predict(s)\n",
        "      # for l in label:\n",
        "      #   if l == np.argmax(pre) and np.argmax(pre)!=0:\n",
        "      #     if label[l] not in arr:\n",
        "      arr.append(np.argmax(pre))\n",
        "  return arr\n"
      ],
      "execution_count": 50,
      "outputs": []
    },
    {
      "cell_type": "code",
      "metadata": {
        "id": "CrHMgAYTurge"
      },
      "source": [
        "model6 = load_model('/content/drive/MyDrive/NLP/model/model3.h5')"
      ],
      "execution_count": 47,
      "outputs": []
    },
    {
      "cell_type": "code",
      "metadata": {
        "colab": {
          "base_uri": "https://localhost:8080/"
        },
        "id": "eJBamlWBThgt",
        "outputId": "801985e5-649a-4a20-9c00-b1cfecb7cc82"
      },
      "source": [
        "a = 'Bún chả ở đây ngon vừa miệng. Quán tầm buổi trưa đông khách dã man luôn. Nên là đến thì ngồi đợi 10 phút thì có đồ nha'\n",
        "predict(model6,a)"
      ],
      "execution_count": 51,
      "outputs": [
        {
          "output_type": "execute_result",
          "data": {
            "text/plain": [
              "[1, 0, 8]"
            ]
          },
          "metadata": {
            "tags": []
          },
          "execution_count": 51
        }
      ]
    }
  ]
}